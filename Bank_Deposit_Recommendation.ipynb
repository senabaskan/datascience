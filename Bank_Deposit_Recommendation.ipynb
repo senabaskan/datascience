{
  "nbformat": 4,
  "nbformat_minor": 0,
  "metadata": {
    "colab": {
      "name": "Bank Deposit - Recommendation.ipynb",
      "provenance": [],
      "collapsed_sections": [],
      "authorship_tag": "ABX9TyO7uoKRKeOJ9G3n9y3dCqwH",
      "include_colab_link": true
    },
    "kernelspec": {
      "name": "python3",
      "display_name": "Python 3"
    }
  },
  "cells": [
    {
      "cell_type": "markdown",
      "metadata": {
        "id": "view-in-github",
        "colab_type": "text"
      },
      "source": [
        "<a href=\"https://colab.research.google.com/github/senabaskan/datascience/blob/master/Bank_Deposit_Recommendation.ipynb\" target=\"_parent\"><img src=\"https://colab.research.google.com/assets/colab-badge.svg\" alt=\"Open In Colab\"/></a>"
      ]
    },
    {
      "cell_type": "code",
      "metadata": {
        "id": "4HQhM1hJzkPt",
        "colab_type": "code",
        "colab": {}
      },
      "source": [
        "import numpy as np\n",
        "import pandas as pd\n",
        "from pandas import Series, DataFrame\n",
        "from sklearn.linear_model import LogisticRegression\n",
        "from sklearn.preprocessing import OneHotEncoder \n",
        "import matplotlib.pyplot as plt\n",
        "\n"
      ],
      "execution_count": 0,
      "outputs": []
    },
    {
      "cell_type": "code",
      "metadata": {
        "id": "J80HbMe_Oh33",
        "colab_type": "code",
        "colab": {}
      },
      "source": [
        "bank_full = pd.read_csv('bank-full.csv', sep = \";\")\n",
        "bank = pd.read_csv('bank.csv', sep = \";\")"
      ],
      "execution_count": 0,
      "outputs": []
    },
    {
      "cell_type": "code",
      "metadata": {
        "id": "sWGwLTk-E2Gg",
        "colab_type": "code",
        "colab": {}
      },
      "source": [
        "bank_full_x = pd.read_csv('bank-full.csv', sep = \";\")\n"
      ],
      "execution_count": 0,
      "outputs": []
    },
    {
      "cell_type": "code",
      "metadata": {
        "id": "rx6kEgY4EAeK",
        "colab_type": "code",
        "outputId": "238b2a0b-45bf-4f8d-eccb-0615b46af421",
        "colab": {
          "base_uri": "https://localhost:8080/",
          "height": 35
        }
      },
      "source": [
        "bank_full.shape"
      ],
      "execution_count": 121,
      "outputs": [
        {
          "output_type": "execute_result",
          "data": {
            "text/plain": [
              "(45211, 17)"
            ]
          },
          "metadata": {
            "tags": []
          },
          "execution_count": 121
        }
      ]
    },
    {
      "cell_type": "code",
      "metadata": {
        "id": "mggqbslmD-Oa",
        "colab_type": "code",
        "outputId": "1f0f724e-9515-40ee-c2c4-9f5ae2646ea8",
        "colab": {
          "base_uri": "https://localhost:8080/",
          "height": 35
        }
      },
      "source": [
        "bank.shape"
      ],
      "execution_count": 6,
      "outputs": [
        {
          "output_type": "execute_result",
          "data": {
            "text/plain": [
              "(4521, 17)"
            ]
          },
          "metadata": {
            "tags": []
          },
          "execution_count": 6
        }
      ]
    },
    {
      "cell_type": "code",
      "metadata": {
        "id": "B5QQuwIa1v0u",
        "colab_type": "code",
        "outputId": "d0c9528d-5509-48bb-dcbd-95ab706d42ae",
        "colab": {
          "base_uri": "https://localhost:8080/",
          "height": 348
        }
      },
      "source": [
        "bank_full.head(10)"
      ],
      "execution_count": 0,
      "outputs": [
        {
          "output_type": "execute_result",
          "data": {
            "text/html": [
              "<div>\n",
              "<style scoped>\n",
              "    .dataframe tbody tr th:only-of-type {\n",
              "        vertical-align: middle;\n",
              "    }\n",
              "\n",
              "    .dataframe tbody tr th {\n",
              "        vertical-align: top;\n",
              "    }\n",
              "\n",
              "    .dataframe thead th {\n",
              "        text-align: right;\n",
              "    }\n",
              "</style>\n",
              "<table border=\"1\" class=\"dataframe\">\n",
              "  <thead>\n",
              "    <tr style=\"text-align: right;\">\n",
              "      <th></th>\n",
              "      <th>age</th>\n",
              "      <th>job</th>\n",
              "      <th>marital</th>\n",
              "      <th>education</th>\n",
              "      <th>default</th>\n",
              "      <th>balance</th>\n",
              "      <th>housing</th>\n",
              "      <th>loan</th>\n",
              "      <th>contact</th>\n",
              "      <th>day</th>\n",
              "      <th>month</th>\n",
              "      <th>duration</th>\n",
              "      <th>campaign</th>\n",
              "      <th>pdays</th>\n",
              "      <th>previous</th>\n",
              "      <th>poutcome</th>\n",
              "      <th>y</th>\n",
              "    </tr>\n",
              "  </thead>\n",
              "  <tbody>\n",
              "    <tr>\n",
              "      <th>0</th>\n",
              "      <td>58</td>\n",
              "      <td>management</td>\n",
              "      <td>married</td>\n",
              "      <td>tertiary</td>\n",
              "      <td>no</td>\n",
              "      <td>2143</td>\n",
              "      <td>yes</td>\n",
              "      <td>no</td>\n",
              "      <td>unknown</td>\n",
              "      <td>5</td>\n",
              "      <td>may</td>\n",
              "      <td>261</td>\n",
              "      <td>1</td>\n",
              "      <td>-1</td>\n",
              "      <td>0</td>\n",
              "      <td>unknown</td>\n",
              "      <td>no</td>\n",
              "    </tr>\n",
              "    <tr>\n",
              "      <th>1</th>\n",
              "      <td>44</td>\n",
              "      <td>technician</td>\n",
              "      <td>single</td>\n",
              "      <td>secondary</td>\n",
              "      <td>no</td>\n",
              "      <td>29</td>\n",
              "      <td>yes</td>\n",
              "      <td>no</td>\n",
              "      <td>unknown</td>\n",
              "      <td>5</td>\n",
              "      <td>may</td>\n",
              "      <td>151</td>\n",
              "      <td>1</td>\n",
              "      <td>-1</td>\n",
              "      <td>0</td>\n",
              "      <td>unknown</td>\n",
              "      <td>no</td>\n",
              "    </tr>\n",
              "    <tr>\n",
              "      <th>2</th>\n",
              "      <td>33</td>\n",
              "      <td>entrepreneur</td>\n",
              "      <td>married</td>\n",
              "      <td>secondary</td>\n",
              "      <td>no</td>\n",
              "      <td>2</td>\n",
              "      <td>yes</td>\n",
              "      <td>yes</td>\n",
              "      <td>unknown</td>\n",
              "      <td>5</td>\n",
              "      <td>may</td>\n",
              "      <td>76</td>\n",
              "      <td>1</td>\n",
              "      <td>-1</td>\n",
              "      <td>0</td>\n",
              "      <td>unknown</td>\n",
              "      <td>no</td>\n",
              "    </tr>\n",
              "    <tr>\n",
              "      <th>3</th>\n",
              "      <td>47</td>\n",
              "      <td>blue-collar</td>\n",
              "      <td>married</td>\n",
              "      <td>unknown</td>\n",
              "      <td>no</td>\n",
              "      <td>1506</td>\n",
              "      <td>yes</td>\n",
              "      <td>no</td>\n",
              "      <td>unknown</td>\n",
              "      <td>5</td>\n",
              "      <td>may</td>\n",
              "      <td>92</td>\n",
              "      <td>1</td>\n",
              "      <td>-1</td>\n",
              "      <td>0</td>\n",
              "      <td>unknown</td>\n",
              "      <td>no</td>\n",
              "    </tr>\n",
              "    <tr>\n",
              "      <th>4</th>\n",
              "      <td>33</td>\n",
              "      <td>unknown</td>\n",
              "      <td>single</td>\n",
              "      <td>unknown</td>\n",
              "      <td>no</td>\n",
              "      <td>1</td>\n",
              "      <td>no</td>\n",
              "      <td>no</td>\n",
              "      <td>unknown</td>\n",
              "      <td>5</td>\n",
              "      <td>may</td>\n",
              "      <td>198</td>\n",
              "      <td>1</td>\n",
              "      <td>-1</td>\n",
              "      <td>0</td>\n",
              "      <td>unknown</td>\n",
              "      <td>no</td>\n",
              "    </tr>\n",
              "    <tr>\n",
              "      <th>5</th>\n",
              "      <td>35</td>\n",
              "      <td>management</td>\n",
              "      <td>married</td>\n",
              "      <td>tertiary</td>\n",
              "      <td>no</td>\n",
              "      <td>231</td>\n",
              "      <td>yes</td>\n",
              "      <td>no</td>\n",
              "      <td>unknown</td>\n",
              "      <td>5</td>\n",
              "      <td>may</td>\n",
              "      <td>139</td>\n",
              "      <td>1</td>\n",
              "      <td>-1</td>\n",
              "      <td>0</td>\n",
              "      <td>unknown</td>\n",
              "      <td>no</td>\n",
              "    </tr>\n",
              "    <tr>\n",
              "      <th>6</th>\n",
              "      <td>28</td>\n",
              "      <td>management</td>\n",
              "      <td>single</td>\n",
              "      <td>tertiary</td>\n",
              "      <td>no</td>\n",
              "      <td>447</td>\n",
              "      <td>yes</td>\n",
              "      <td>yes</td>\n",
              "      <td>unknown</td>\n",
              "      <td>5</td>\n",
              "      <td>may</td>\n",
              "      <td>217</td>\n",
              "      <td>1</td>\n",
              "      <td>-1</td>\n",
              "      <td>0</td>\n",
              "      <td>unknown</td>\n",
              "      <td>no</td>\n",
              "    </tr>\n",
              "    <tr>\n",
              "      <th>7</th>\n",
              "      <td>42</td>\n",
              "      <td>entrepreneur</td>\n",
              "      <td>divorced</td>\n",
              "      <td>tertiary</td>\n",
              "      <td>yes</td>\n",
              "      <td>2</td>\n",
              "      <td>yes</td>\n",
              "      <td>no</td>\n",
              "      <td>unknown</td>\n",
              "      <td>5</td>\n",
              "      <td>may</td>\n",
              "      <td>380</td>\n",
              "      <td>1</td>\n",
              "      <td>-1</td>\n",
              "      <td>0</td>\n",
              "      <td>unknown</td>\n",
              "      <td>no</td>\n",
              "    </tr>\n",
              "    <tr>\n",
              "      <th>8</th>\n",
              "      <td>58</td>\n",
              "      <td>retired</td>\n",
              "      <td>married</td>\n",
              "      <td>primary</td>\n",
              "      <td>no</td>\n",
              "      <td>121</td>\n",
              "      <td>yes</td>\n",
              "      <td>no</td>\n",
              "      <td>unknown</td>\n",
              "      <td>5</td>\n",
              "      <td>may</td>\n",
              "      <td>50</td>\n",
              "      <td>1</td>\n",
              "      <td>-1</td>\n",
              "      <td>0</td>\n",
              "      <td>unknown</td>\n",
              "      <td>no</td>\n",
              "    </tr>\n",
              "    <tr>\n",
              "      <th>9</th>\n",
              "      <td>43</td>\n",
              "      <td>technician</td>\n",
              "      <td>single</td>\n",
              "      <td>secondary</td>\n",
              "      <td>no</td>\n",
              "      <td>593</td>\n",
              "      <td>yes</td>\n",
              "      <td>no</td>\n",
              "      <td>unknown</td>\n",
              "      <td>5</td>\n",
              "      <td>may</td>\n",
              "      <td>55</td>\n",
              "      <td>1</td>\n",
              "      <td>-1</td>\n",
              "      <td>0</td>\n",
              "      <td>unknown</td>\n",
              "      <td>no</td>\n",
              "    </tr>\n",
              "  </tbody>\n",
              "</table>\n",
              "</div>"
            ],
            "text/plain": [
              "   age           job   marital  education  ... pdays  previous poutcome   y\n",
              "0   58    management   married   tertiary  ...    -1         0  unknown  no\n",
              "1   44    technician    single  secondary  ...    -1         0  unknown  no\n",
              "2   33  entrepreneur   married  secondary  ...    -1         0  unknown  no\n",
              "3   47   blue-collar   married    unknown  ...    -1         0  unknown  no\n",
              "4   33       unknown    single    unknown  ...    -1         0  unknown  no\n",
              "5   35    management   married   tertiary  ...    -1         0  unknown  no\n",
              "6   28    management    single   tertiary  ...    -1         0  unknown  no\n",
              "7   42  entrepreneur  divorced   tertiary  ...    -1         0  unknown  no\n",
              "8   58       retired   married    primary  ...    -1         0  unknown  no\n",
              "9   43    technician    single  secondary  ...    -1         0  unknown  no\n",
              "\n",
              "[10 rows x 17 columns]"
            ]
          },
          "metadata": {
            "tags": []
          },
          "execution_count": 155
        }
      ]
    },
    {
      "cell_type": "markdown",
      "metadata": {
        "id": "LPFPaeYl15LI",
        "colab_type": "text"
      },
      "source": [
        "**Irrelevant Columns**\n",
        "\n",
        "\n",
        "\n",
        "\"Day\" and \"Month\" due to the existence of the attribute \"pdays\""
      ]
    },
    {
      "cell_type": "code",
      "metadata": {
        "id": "JqeIS0Ih1yxN",
        "colab_type": "code",
        "colab": {}
      },
      "source": [
        "bank_full.drop(columns = ['day', 'month'], axis=1, inplace = True)\n",
        "bank_full.drop_duplicates(inplace=True)"
      ],
      "execution_count": 0,
      "outputs": []
    },
    {
      "cell_type": "code",
      "metadata": {
        "id": "vLoCHXvtGoTU",
        "colab_type": "code",
        "outputId": "adffd730-66e5-47e6-9e12-357c02d32c4c",
        "colab": {
          "base_uri": "https://localhost:8080/",
          "height": 35
        }
      },
      "source": [
        "bank_full.shape"
      ],
      "execution_count": 123,
      "outputs": [
        {
          "output_type": "execute_result",
          "data": {
            "text/plain": [
              "(45210, 15)"
            ]
          },
          "metadata": {
            "tags": []
          },
          "execution_count": 123
        }
      ]
    },
    {
      "cell_type": "code",
      "metadata": {
        "id": "_OGjDBON2tGT",
        "colab_type": "code",
        "outputId": "d95378bc-97a2-4667-93e4-2d5a64dddf85",
        "colab": {
          "base_uri": "https://localhost:8080/",
          "height": 254
        }
      },
      "source": [
        "bank_full._get_numeric_data().info()"
      ],
      "execution_count": 10,
      "outputs": [
        {
          "output_type": "stream",
          "text": [
            "<class 'pandas.core.frame.DataFrame'>\n",
            "Int64Index: 45210 entries, 0 to 45210\n",
            "Data columns (total 6 columns):\n",
            " #   Column    Non-Null Count  Dtype\n",
            "---  ------    --------------  -----\n",
            " 0   age       45210 non-null  int64\n",
            " 1   balance   45210 non-null  int64\n",
            " 2   duration  45210 non-null  int64\n",
            " 3   campaign  45210 non-null  int64\n",
            " 4   pdays     45210 non-null  int64\n",
            " 5   previous  45210 non-null  int64\n",
            "dtypes: int64(6)\n",
            "memory usage: 2.4 MB\n"
          ],
          "name": "stdout"
        }
      ]
    },
    {
      "cell_type": "code",
      "metadata": {
        "id": "L03RGsRR3FJq",
        "colab_type": "code",
        "outputId": "0ed55072-d7e9-4733-e523-18caddb8cf4d",
        "colab": {
          "base_uri": "https://localhost:8080/",
          "height": 308
        }
      },
      "source": [
        "bank_full.max()"
      ],
      "execution_count": 0,
      "outputs": [
        {
          "output_type": "execute_result",
          "data": {
            "text/plain": [
              "age               95\n",
              "job          unknown\n",
              "marital       single\n",
              "education    unknown\n",
              "default          yes\n",
              "balance       102127\n",
              "housing          yes\n",
              "loan             yes\n",
              "contact      unknown\n",
              "duration        4918\n",
              "campaign          63\n",
              "pdays            871\n",
              "previous         275\n",
              "poutcome     unknown\n",
              "y                yes\n",
              "dtype: object"
            ]
          },
          "metadata": {
            "tags": []
          },
          "execution_count": 14
        }
      ]
    },
    {
      "cell_type": "code",
      "metadata": {
        "id": "RkeqmRym3Nl-",
        "colab_type": "code",
        "outputId": "45ea453e-cb05-4e32-b58e-6100753247a5",
        "colab": {
          "base_uri": "https://localhost:8080/",
          "height": 308
        }
      },
      "source": [
        "bank_full.min()"
      ],
      "execution_count": 0,
      "outputs": [
        {
          "output_type": "execute_result",
          "data": {
            "text/plain": [
              "age                18\n",
              "job            admin.\n",
              "marital      divorced\n",
              "education     primary\n",
              "default            no\n",
              "balance         -8019\n",
              "housing            no\n",
              "loan               no\n",
              "contact      cellular\n",
              "duration            0\n",
              "campaign            1\n",
              "pdays              -1\n",
              "previous            0\n",
              "poutcome      failure\n",
              "y                  no\n",
              "dtype: object"
            ]
          },
          "metadata": {
            "tags": []
          },
          "execution_count": 15
        }
      ]
    },
    {
      "cell_type": "code",
      "metadata": {
        "id": "DKLWMJi9Njhk",
        "colab_type": "code",
        "outputId": "8668593c-2264-49dd-b213-4c8dc2aecaed",
        "colab": {
          "base_uri": "https://localhost:8080/",
          "height": 35
        }
      },
      "source": [
        "bank_full.isnull().sum().sum()"
      ],
      "execution_count": 124,
      "outputs": [
        {
          "output_type": "execute_result",
          "data": {
            "text/plain": [
              "0"
            ]
          },
          "metadata": {
            "tags": []
          },
          "execution_count": 124
        }
      ]
    },
    {
      "cell_type": "markdown",
      "metadata": {
        "id": "rILU_SV4XnYS",
        "colab_type": "text"
      },
      "source": [
        "Features to be encoded:\n",
        "\n",
        "One hot encoding -> Job, Marital, Contact\n",
        "\n",
        "Ordinal encoding -> Education, poutcome\n",
        "\n",
        "Label encoding -> Default, housing, loan\n",
        "\n",
        "\n",
        "\n",
        "\n",
        "\n",
        "\n",
        "\n",
        "\n"
      ]
    },
    {
      "cell_type": "code",
      "metadata": {
        "id": "HCHm66FF7o7W",
        "colab_type": "code",
        "colab": {}
      },
      "source": [
        "onehotencoder = OneHotEncoder() \n"
      ],
      "execution_count": 0,
      "outputs": []
    },
    {
      "cell_type": "code",
      "metadata": {
        "id": "pDS3geT62vqA",
        "colab_type": "code",
        "colab": {}
      },
      "source": [
        "onehot_job = pd.DataFrame(onehotencoder.fit_transform(bank_full[['job']]).toarray())\n",
        "onehot_marital = pd.DataFrame(onehotencoder.fit_transform(bank_full[['marital']]).toarray())\n",
        "onehot_contact = pd.DataFrame(onehotencoder.fit_transform(bank_full[['contact']]).toarray())\n",
        "\n"
      ],
      "execution_count": 0,
      "outputs": []
    },
    {
      "cell_type": "code",
      "metadata": {
        "id": "CW2IkxaG6NKh",
        "colab_type": "code",
        "outputId": "fff52703-6bdb-43fc-f11f-74a8ab7521d5",
        "colab": {
          "base_uri": "https://localhost:8080/",
          "height": 407
        }
      },
      "source": [
        "onehot_contact"
      ],
      "execution_count": 127,
      "outputs": [
        {
          "output_type": "execute_result",
          "data": {
            "text/html": [
              "<div>\n",
              "<style scoped>\n",
              "    .dataframe tbody tr th:only-of-type {\n",
              "        vertical-align: middle;\n",
              "    }\n",
              "\n",
              "    .dataframe tbody tr th {\n",
              "        vertical-align: top;\n",
              "    }\n",
              "\n",
              "    .dataframe thead th {\n",
              "        text-align: right;\n",
              "    }\n",
              "</style>\n",
              "<table border=\"1\" class=\"dataframe\">\n",
              "  <thead>\n",
              "    <tr style=\"text-align: right;\">\n",
              "      <th></th>\n",
              "      <th>0</th>\n",
              "      <th>1</th>\n",
              "      <th>2</th>\n",
              "    </tr>\n",
              "  </thead>\n",
              "  <tbody>\n",
              "    <tr>\n",
              "      <th>0</th>\n",
              "      <td>0.0</td>\n",
              "      <td>0.0</td>\n",
              "      <td>1.0</td>\n",
              "    </tr>\n",
              "    <tr>\n",
              "      <th>1</th>\n",
              "      <td>0.0</td>\n",
              "      <td>0.0</td>\n",
              "      <td>1.0</td>\n",
              "    </tr>\n",
              "    <tr>\n",
              "      <th>2</th>\n",
              "      <td>0.0</td>\n",
              "      <td>0.0</td>\n",
              "      <td>1.0</td>\n",
              "    </tr>\n",
              "    <tr>\n",
              "      <th>3</th>\n",
              "      <td>0.0</td>\n",
              "      <td>0.0</td>\n",
              "      <td>1.0</td>\n",
              "    </tr>\n",
              "    <tr>\n",
              "      <th>4</th>\n",
              "      <td>0.0</td>\n",
              "      <td>0.0</td>\n",
              "      <td>1.0</td>\n",
              "    </tr>\n",
              "    <tr>\n",
              "      <th>...</th>\n",
              "      <td>...</td>\n",
              "      <td>...</td>\n",
              "      <td>...</td>\n",
              "    </tr>\n",
              "    <tr>\n",
              "      <th>45205</th>\n",
              "      <td>1.0</td>\n",
              "      <td>0.0</td>\n",
              "      <td>0.0</td>\n",
              "    </tr>\n",
              "    <tr>\n",
              "      <th>45206</th>\n",
              "      <td>1.0</td>\n",
              "      <td>0.0</td>\n",
              "      <td>0.0</td>\n",
              "    </tr>\n",
              "    <tr>\n",
              "      <th>45207</th>\n",
              "      <td>1.0</td>\n",
              "      <td>0.0</td>\n",
              "      <td>0.0</td>\n",
              "    </tr>\n",
              "    <tr>\n",
              "      <th>45208</th>\n",
              "      <td>0.0</td>\n",
              "      <td>1.0</td>\n",
              "      <td>0.0</td>\n",
              "    </tr>\n",
              "    <tr>\n",
              "      <th>45209</th>\n",
              "      <td>1.0</td>\n",
              "      <td>0.0</td>\n",
              "      <td>0.0</td>\n",
              "    </tr>\n",
              "  </tbody>\n",
              "</table>\n",
              "<p>45210 rows × 3 columns</p>\n",
              "</div>"
            ],
            "text/plain": [
              "         0    1    2\n",
              "0      0.0  0.0  1.0\n",
              "1      0.0  0.0  1.0\n",
              "2      0.0  0.0  1.0\n",
              "3      0.0  0.0  1.0\n",
              "4      0.0  0.0  1.0\n",
              "...    ...  ...  ...\n",
              "45205  1.0  0.0  0.0\n",
              "45206  1.0  0.0  0.0\n",
              "45207  1.0  0.0  0.0\n",
              "45208  0.0  1.0  0.0\n",
              "45209  1.0  0.0  0.0\n",
              "\n",
              "[45210 rows x 3 columns]"
            ]
          },
          "metadata": {
            "tags": []
          },
          "execution_count": 127
        }
      ]
    },
    {
      "cell_type": "code",
      "metadata": {
        "id": "mfxCv7gwbyr2",
        "colab_type": "code",
        "outputId": "d053699c-d8e3-4c06-c83e-4b65ad904eee",
        "colab": {
          "base_uri": "https://localhost:8080/",
          "height": 35
        }
      },
      "source": [
        "bank_full.education.unique()"
      ],
      "execution_count": 128,
      "outputs": [
        {
          "output_type": "execute_result",
          "data": {
            "text/plain": [
              "array(['tertiary', 'secondary', 'unknown', 'primary'], dtype=object)"
            ]
          },
          "metadata": {
            "tags": []
          },
          "execution_count": 128
        }
      ]
    },
    {
      "cell_type": "code",
      "metadata": {
        "id": "cLa-chsLbsBJ",
        "colab_type": "code",
        "colab": {}
      },
      "source": [
        "temp = {'unknown':0, 'primary' :1, 'secondary':2, 'tertiary' : 3}\n",
        "bank_full['education_ord'] = bank_full.education.map(temp)"
      ],
      "execution_count": 0,
      "outputs": []
    },
    {
      "cell_type": "code",
      "metadata": {
        "id": "J1ijqikOe02O",
        "colab_type": "code",
        "outputId": "dc5e518a-f2d6-4953-9154-08689d419eaa",
        "colab": {
          "base_uri": "https://localhost:8080/",
          "height": 35
        }
      },
      "source": [
        "bank_full.poutcome.unique()"
      ],
      "execution_count": 130,
      "outputs": [
        {
          "output_type": "execute_result",
          "data": {
            "text/plain": [
              "array(['unknown', 'failure', 'other', 'success'], dtype=object)"
            ]
          },
          "metadata": {
            "tags": []
          },
          "execution_count": 130
        }
      ]
    },
    {
      "cell_type": "code",
      "metadata": {
        "id": "Xh5Tf_bse3To",
        "colab_type": "code",
        "colab": {}
      },
      "source": [
        "temp2 = {'unknown':0, 'other' :0, 'failure':-1, 'success' : 1}\n",
        "bank_full['poutcome_ord'] = bank_full.poutcome.map(temp2)"
      ],
      "execution_count": 0,
      "outputs": []
    },
    {
      "cell_type": "code",
      "metadata": {
        "id": "VDqm1qEv4EDx",
        "colab_type": "code",
        "colab": {}
      },
      "source": [
        "bank_full.drop(columns = ['education', 'poutcome'], axis=1, inplace=True)"
      ],
      "execution_count": 0,
      "outputs": []
    },
    {
      "cell_type": "code",
      "metadata": {
        "id": "S0RpwDchG7Rj",
        "colab_type": "code",
        "outputId": "f6139fb8-f7f0-48cd-e8f5-59db23325519",
        "colab": {
          "base_uri": "https://localhost:8080/",
          "height": 35
        }
      },
      "source": [
        "bank_full.shape"
      ],
      "execution_count": 133,
      "outputs": [
        {
          "output_type": "execute_result",
          "data": {
            "text/plain": [
              "(45210, 15)"
            ]
          },
          "metadata": {
            "tags": []
          },
          "execution_count": 133
        }
      ]
    },
    {
      "cell_type": "code",
      "metadata": {
        "id": "gwW53yP4g4Pd",
        "colab_type": "code",
        "colab": {}
      },
      "source": [
        "from sklearn.preprocessing import LabelEncoder"
      ],
      "execution_count": 0,
      "outputs": []
    },
    {
      "cell_type": "code",
      "metadata": {
        "id": "ByLXqQ3bhH7-",
        "colab_type": "code",
        "colab": {}
      },
      "source": [
        "bank_full['default_encoded'] = LabelEncoder().fit_transform(bank_full.default)\n",
        "bank_full.reset_index(drop = True, inplace = True)"
      ],
      "execution_count": 0,
      "outputs": []
    },
    {
      "cell_type": "code",
      "metadata": {
        "id": "EDefgAg3K8ls",
        "colab_type": "code",
        "outputId": "2db9f652-b14f-4c8c-bcb4-db070b94812b",
        "colab": {
          "base_uri": "https://localhost:8080/",
          "height": 35
        }
      },
      "source": [
        "bank_full.shape"
      ],
      "execution_count": 136,
      "outputs": [
        {
          "output_type": "execute_result",
          "data": {
            "text/plain": [
              "(45210, 16)"
            ]
          },
          "metadata": {
            "tags": []
          },
          "execution_count": 136
        }
      ]
    },
    {
      "cell_type": "code",
      "metadata": {
        "id": "vm5eGJOahYD0",
        "colab_type": "code",
        "outputId": "f497eda2-04c1-4979-c012-54da1138d7d7",
        "colab": {
          "base_uri": "https://localhost:8080/",
          "height": 218
        }
      },
      "source": [
        "bank_full.tail()"
      ],
      "execution_count": 137,
      "outputs": [
        {
          "output_type": "execute_result",
          "data": {
            "text/html": [
              "<div>\n",
              "<style scoped>\n",
              "    .dataframe tbody tr th:only-of-type {\n",
              "        vertical-align: middle;\n",
              "    }\n",
              "\n",
              "    .dataframe tbody tr th {\n",
              "        vertical-align: top;\n",
              "    }\n",
              "\n",
              "    .dataframe thead th {\n",
              "        text-align: right;\n",
              "    }\n",
              "</style>\n",
              "<table border=\"1\" class=\"dataframe\">\n",
              "  <thead>\n",
              "    <tr style=\"text-align: right;\">\n",
              "      <th></th>\n",
              "      <th>age</th>\n",
              "      <th>job</th>\n",
              "      <th>marital</th>\n",
              "      <th>default</th>\n",
              "      <th>balance</th>\n",
              "      <th>housing</th>\n",
              "      <th>loan</th>\n",
              "      <th>contact</th>\n",
              "      <th>duration</th>\n",
              "      <th>campaign</th>\n",
              "      <th>pdays</th>\n",
              "      <th>previous</th>\n",
              "      <th>y</th>\n",
              "      <th>education_ord</th>\n",
              "      <th>poutcome_ord</th>\n",
              "      <th>default_encoded</th>\n",
              "    </tr>\n",
              "  </thead>\n",
              "  <tbody>\n",
              "    <tr>\n",
              "      <th>45205</th>\n",
              "      <td>51</td>\n",
              "      <td>technician</td>\n",
              "      <td>married</td>\n",
              "      <td>no</td>\n",
              "      <td>825</td>\n",
              "      <td>no</td>\n",
              "      <td>no</td>\n",
              "      <td>cellular</td>\n",
              "      <td>977</td>\n",
              "      <td>3</td>\n",
              "      <td>-1</td>\n",
              "      <td>0</td>\n",
              "      <td>yes</td>\n",
              "      <td>3</td>\n",
              "      <td>0</td>\n",
              "      <td>0</td>\n",
              "    </tr>\n",
              "    <tr>\n",
              "      <th>45206</th>\n",
              "      <td>71</td>\n",
              "      <td>retired</td>\n",
              "      <td>divorced</td>\n",
              "      <td>no</td>\n",
              "      <td>1729</td>\n",
              "      <td>no</td>\n",
              "      <td>no</td>\n",
              "      <td>cellular</td>\n",
              "      <td>456</td>\n",
              "      <td>2</td>\n",
              "      <td>-1</td>\n",
              "      <td>0</td>\n",
              "      <td>yes</td>\n",
              "      <td>1</td>\n",
              "      <td>0</td>\n",
              "      <td>0</td>\n",
              "    </tr>\n",
              "    <tr>\n",
              "      <th>45207</th>\n",
              "      <td>72</td>\n",
              "      <td>retired</td>\n",
              "      <td>married</td>\n",
              "      <td>no</td>\n",
              "      <td>5715</td>\n",
              "      <td>no</td>\n",
              "      <td>no</td>\n",
              "      <td>cellular</td>\n",
              "      <td>1127</td>\n",
              "      <td>5</td>\n",
              "      <td>184</td>\n",
              "      <td>3</td>\n",
              "      <td>yes</td>\n",
              "      <td>2</td>\n",
              "      <td>1</td>\n",
              "      <td>0</td>\n",
              "    </tr>\n",
              "    <tr>\n",
              "      <th>45208</th>\n",
              "      <td>57</td>\n",
              "      <td>blue-collar</td>\n",
              "      <td>married</td>\n",
              "      <td>no</td>\n",
              "      <td>668</td>\n",
              "      <td>no</td>\n",
              "      <td>no</td>\n",
              "      <td>telephone</td>\n",
              "      <td>508</td>\n",
              "      <td>4</td>\n",
              "      <td>-1</td>\n",
              "      <td>0</td>\n",
              "      <td>no</td>\n",
              "      <td>2</td>\n",
              "      <td>0</td>\n",
              "      <td>0</td>\n",
              "    </tr>\n",
              "    <tr>\n",
              "      <th>45209</th>\n",
              "      <td>37</td>\n",
              "      <td>entrepreneur</td>\n",
              "      <td>married</td>\n",
              "      <td>no</td>\n",
              "      <td>2971</td>\n",
              "      <td>no</td>\n",
              "      <td>no</td>\n",
              "      <td>cellular</td>\n",
              "      <td>361</td>\n",
              "      <td>2</td>\n",
              "      <td>188</td>\n",
              "      <td>11</td>\n",
              "      <td>no</td>\n",
              "      <td>2</td>\n",
              "      <td>0</td>\n",
              "      <td>0</td>\n",
              "    </tr>\n",
              "  </tbody>\n",
              "</table>\n",
              "</div>"
            ],
            "text/plain": [
              "       age           job  ... poutcome_ord default_encoded\n",
              "45205   51    technician  ...            0               0\n",
              "45206   71       retired  ...            0               0\n",
              "45207   72       retired  ...            1               0\n",
              "45208   57   blue-collar  ...            0               0\n",
              "45209   37  entrepreneur  ...            0               0\n",
              "\n",
              "[5 rows x 16 columns]"
            ]
          },
          "metadata": {
            "tags": []
          },
          "execution_count": 137
        }
      ]
    },
    {
      "cell_type": "code",
      "metadata": {
        "id": "nq0J7j1e44Pt",
        "colab_type": "code",
        "colab": {}
      },
      "source": [
        "bank_full['housing_encoded'] = LabelEncoder().fit_transform(bank_full.housing)\n",
        "bank_full['loan_encoded'] = LabelEncoder().fit_transform(bank_full.loan)"
      ],
      "execution_count": 0,
      "outputs": []
    },
    {
      "cell_type": "code",
      "metadata": {
        "id": "vOQXRHHL5EXf",
        "colab_type": "code",
        "outputId": "02118e6c-e1e0-4275-99d4-d3cd64b655d6",
        "colab": {
          "base_uri": "https://localhost:8080/",
          "height": 218
        }
      },
      "source": [
        "bank_full.tail()"
      ],
      "execution_count": 139,
      "outputs": [
        {
          "output_type": "execute_result",
          "data": {
            "text/html": [
              "<div>\n",
              "<style scoped>\n",
              "    .dataframe tbody tr th:only-of-type {\n",
              "        vertical-align: middle;\n",
              "    }\n",
              "\n",
              "    .dataframe tbody tr th {\n",
              "        vertical-align: top;\n",
              "    }\n",
              "\n",
              "    .dataframe thead th {\n",
              "        text-align: right;\n",
              "    }\n",
              "</style>\n",
              "<table border=\"1\" class=\"dataframe\">\n",
              "  <thead>\n",
              "    <tr style=\"text-align: right;\">\n",
              "      <th></th>\n",
              "      <th>age</th>\n",
              "      <th>job</th>\n",
              "      <th>marital</th>\n",
              "      <th>default</th>\n",
              "      <th>balance</th>\n",
              "      <th>housing</th>\n",
              "      <th>loan</th>\n",
              "      <th>contact</th>\n",
              "      <th>duration</th>\n",
              "      <th>campaign</th>\n",
              "      <th>pdays</th>\n",
              "      <th>previous</th>\n",
              "      <th>y</th>\n",
              "      <th>education_ord</th>\n",
              "      <th>poutcome_ord</th>\n",
              "      <th>default_encoded</th>\n",
              "      <th>housing_encoded</th>\n",
              "      <th>loan_encoded</th>\n",
              "    </tr>\n",
              "  </thead>\n",
              "  <tbody>\n",
              "    <tr>\n",
              "      <th>45205</th>\n",
              "      <td>51</td>\n",
              "      <td>technician</td>\n",
              "      <td>married</td>\n",
              "      <td>no</td>\n",
              "      <td>825</td>\n",
              "      <td>no</td>\n",
              "      <td>no</td>\n",
              "      <td>cellular</td>\n",
              "      <td>977</td>\n",
              "      <td>3</td>\n",
              "      <td>-1</td>\n",
              "      <td>0</td>\n",
              "      <td>yes</td>\n",
              "      <td>3</td>\n",
              "      <td>0</td>\n",
              "      <td>0</td>\n",
              "      <td>0</td>\n",
              "      <td>0</td>\n",
              "    </tr>\n",
              "    <tr>\n",
              "      <th>45206</th>\n",
              "      <td>71</td>\n",
              "      <td>retired</td>\n",
              "      <td>divorced</td>\n",
              "      <td>no</td>\n",
              "      <td>1729</td>\n",
              "      <td>no</td>\n",
              "      <td>no</td>\n",
              "      <td>cellular</td>\n",
              "      <td>456</td>\n",
              "      <td>2</td>\n",
              "      <td>-1</td>\n",
              "      <td>0</td>\n",
              "      <td>yes</td>\n",
              "      <td>1</td>\n",
              "      <td>0</td>\n",
              "      <td>0</td>\n",
              "      <td>0</td>\n",
              "      <td>0</td>\n",
              "    </tr>\n",
              "    <tr>\n",
              "      <th>45207</th>\n",
              "      <td>72</td>\n",
              "      <td>retired</td>\n",
              "      <td>married</td>\n",
              "      <td>no</td>\n",
              "      <td>5715</td>\n",
              "      <td>no</td>\n",
              "      <td>no</td>\n",
              "      <td>cellular</td>\n",
              "      <td>1127</td>\n",
              "      <td>5</td>\n",
              "      <td>184</td>\n",
              "      <td>3</td>\n",
              "      <td>yes</td>\n",
              "      <td>2</td>\n",
              "      <td>1</td>\n",
              "      <td>0</td>\n",
              "      <td>0</td>\n",
              "      <td>0</td>\n",
              "    </tr>\n",
              "    <tr>\n",
              "      <th>45208</th>\n",
              "      <td>57</td>\n",
              "      <td>blue-collar</td>\n",
              "      <td>married</td>\n",
              "      <td>no</td>\n",
              "      <td>668</td>\n",
              "      <td>no</td>\n",
              "      <td>no</td>\n",
              "      <td>telephone</td>\n",
              "      <td>508</td>\n",
              "      <td>4</td>\n",
              "      <td>-1</td>\n",
              "      <td>0</td>\n",
              "      <td>no</td>\n",
              "      <td>2</td>\n",
              "      <td>0</td>\n",
              "      <td>0</td>\n",
              "      <td>0</td>\n",
              "      <td>0</td>\n",
              "    </tr>\n",
              "    <tr>\n",
              "      <th>45209</th>\n",
              "      <td>37</td>\n",
              "      <td>entrepreneur</td>\n",
              "      <td>married</td>\n",
              "      <td>no</td>\n",
              "      <td>2971</td>\n",
              "      <td>no</td>\n",
              "      <td>no</td>\n",
              "      <td>cellular</td>\n",
              "      <td>361</td>\n",
              "      <td>2</td>\n",
              "      <td>188</td>\n",
              "      <td>11</td>\n",
              "      <td>no</td>\n",
              "      <td>2</td>\n",
              "      <td>0</td>\n",
              "      <td>0</td>\n",
              "      <td>0</td>\n",
              "      <td>0</td>\n",
              "    </tr>\n",
              "  </tbody>\n",
              "</table>\n",
              "</div>"
            ],
            "text/plain": [
              "       age           job  ... housing_encoded loan_encoded\n",
              "45205   51    technician  ...               0            0\n",
              "45206   71       retired  ...               0            0\n",
              "45207   72       retired  ...               0            0\n",
              "45208   57   blue-collar  ...               0            0\n",
              "45209   37  entrepreneur  ...               0            0\n",
              "\n",
              "[5 rows x 18 columns]"
            ]
          },
          "metadata": {
            "tags": []
          },
          "execution_count": 139
        }
      ]
    },
    {
      "cell_type": "code",
      "metadata": {
        "id": "jk-2gRRb5Mif",
        "colab_type": "code",
        "colab": {}
      },
      "source": [
        "bank_full.drop(columns = ['default', 'housing', 'loan'], axis = 1, inplace = True)\n",
        "bank_full.drop(columns = ['job', 'marital', 'contact'], axis = 1, inplace = True)"
      ],
      "execution_count": 0,
      "outputs": []
    },
    {
      "cell_type": "code",
      "metadata": {
        "id": "_TF22uhUHUNv",
        "colab_type": "code",
        "outputId": "4216d081-7532-48e2-9c07-9e7763b84fcb",
        "colab": {
          "base_uri": "https://localhost:8080/",
          "height": 35
        }
      },
      "source": [
        "bank_full.shape"
      ],
      "execution_count": 141,
      "outputs": [
        {
          "output_type": "execute_result",
          "data": {
            "text/plain": [
              "(45210, 12)"
            ]
          },
          "metadata": {
            "tags": []
          },
          "execution_count": 141
        }
      ]
    },
    {
      "cell_type": "code",
      "metadata": {
        "id": "5DZFrzHy59Q7",
        "colab_type": "code",
        "colab": {}
      },
      "source": [
        "onehot_job.columns = ['job1','job2','job3','job4','job5','job6','job7','job8','job9','job10','job11','job12']\n",
        "onehot_marital.columns = ['marital1','marital2','marital3']\n",
        "onehot_contact.columns = ['contact1','contact2','contact3']\n",
        "bank_full_encoded = pd.concat([bank_full, onehot_job, onehot_marital, onehot_contact], axis = 1)"
      ],
      "execution_count": 0,
      "outputs": []
    },
    {
      "cell_type": "code",
      "metadata": {
        "id": "3syjhywaHuBn",
        "colab_type": "code",
        "outputId": "b672e09f-5988-4952-96a8-c121a8179477",
        "colab": {
          "base_uri": "https://localhost:8080/",
          "height": 35
        }
      },
      "source": [
        "onehot_contact.shape"
      ],
      "execution_count": 143,
      "outputs": [
        {
          "output_type": "execute_result",
          "data": {
            "text/plain": [
              "(45210, 3)"
            ]
          },
          "metadata": {
            "tags": []
          },
          "execution_count": 143
        }
      ]
    },
    {
      "cell_type": "code",
      "metadata": {
        "id": "cal03E1c7uF_",
        "colab_type": "code",
        "outputId": "f626e16b-dddc-44d0-df06-0d3a4da7d931",
        "colab": {
          "base_uri": "https://localhost:8080/",
          "height": 218
        }
      },
      "source": [
        "bank_full_encoded.tail()"
      ],
      "execution_count": 144,
      "outputs": [
        {
          "output_type": "execute_result",
          "data": {
            "text/html": [
              "<div>\n",
              "<style scoped>\n",
              "    .dataframe tbody tr th:only-of-type {\n",
              "        vertical-align: middle;\n",
              "    }\n",
              "\n",
              "    .dataframe tbody tr th {\n",
              "        vertical-align: top;\n",
              "    }\n",
              "\n",
              "    .dataframe thead th {\n",
              "        text-align: right;\n",
              "    }\n",
              "</style>\n",
              "<table border=\"1\" class=\"dataframe\">\n",
              "  <thead>\n",
              "    <tr style=\"text-align: right;\">\n",
              "      <th></th>\n",
              "      <th>age</th>\n",
              "      <th>balance</th>\n",
              "      <th>duration</th>\n",
              "      <th>campaign</th>\n",
              "      <th>pdays</th>\n",
              "      <th>previous</th>\n",
              "      <th>y</th>\n",
              "      <th>education_ord</th>\n",
              "      <th>poutcome_ord</th>\n",
              "      <th>default_encoded</th>\n",
              "      <th>housing_encoded</th>\n",
              "      <th>loan_encoded</th>\n",
              "      <th>job1</th>\n",
              "      <th>job2</th>\n",
              "      <th>job3</th>\n",
              "      <th>job4</th>\n",
              "      <th>job5</th>\n",
              "      <th>job6</th>\n",
              "      <th>job7</th>\n",
              "      <th>job8</th>\n",
              "      <th>job9</th>\n",
              "      <th>job10</th>\n",
              "      <th>job11</th>\n",
              "      <th>job12</th>\n",
              "      <th>marital1</th>\n",
              "      <th>marital2</th>\n",
              "      <th>marital3</th>\n",
              "      <th>contact1</th>\n",
              "      <th>contact2</th>\n",
              "      <th>contact3</th>\n",
              "    </tr>\n",
              "  </thead>\n",
              "  <tbody>\n",
              "    <tr>\n",
              "      <th>45205</th>\n",
              "      <td>51</td>\n",
              "      <td>825</td>\n",
              "      <td>977</td>\n",
              "      <td>3</td>\n",
              "      <td>-1</td>\n",
              "      <td>0</td>\n",
              "      <td>yes</td>\n",
              "      <td>3</td>\n",
              "      <td>0</td>\n",
              "      <td>0</td>\n",
              "      <td>0</td>\n",
              "      <td>0</td>\n",
              "      <td>0.0</td>\n",
              "      <td>0.0</td>\n",
              "      <td>0.0</td>\n",
              "      <td>0.0</td>\n",
              "      <td>0.0</td>\n",
              "      <td>0.0</td>\n",
              "      <td>0.0</td>\n",
              "      <td>0.0</td>\n",
              "      <td>0.0</td>\n",
              "      <td>1.0</td>\n",
              "      <td>0.0</td>\n",
              "      <td>0.0</td>\n",
              "      <td>0.0</td>\n",
              "      <td>1.0</td>\n",
              "      <td>0.0</td>\n",
              "      <td>1.0</td>\n",
              "      <td>0.0</td>\n",
              "      <td>0.0</td>\n",
              "    </tr>\n",
              "    <tr>\n",
              "      <th>45206</th>\n",
              "      <td>71</td>\n",
              "      <td>1729</td>\n",
              "      <td>456</td>\n",
              "      <td>2</td>\n",
              "      <td>-1</td>\n",
              "      <td>0</td>\n",
              "      <td>yes</td>\n",
              "      <td>1</td>\n",
              "      <td>0</td>\n",
              "      <td>0</td>\n",
              "      <td>0</td>\n",
              "      <td>0</td>\n",
              "      <td>0.0</td>\n",
              "      <td>0.0</td>\n",
              "      <td>0.0</td>\n",
              "      <td>0.0</td>\n",
              "      <td>0.0</td>\n",
              "      <td>1.0</td>\n",
              "      <td>0.0</td>\n",
              "      <td>0.0</td>\n",
              "      <td>0.0</td>\n",
              "      <td>0.0</td>\n",
              "      <td>0.0</td>\n",
              "      <td>0.0</td>\n",
              "      <td>1.0</td>\n",
              "      <td>0.0</td>\n",
              "      <td>0.0</td>\n",
              "      <td>1.0</td>\n",
              "      <td>0.0</td>\n",
              "      <td>0.0</td>\n",
              "    </tr>\n",
              "    <tr>\n",
              "      <th>45207</th>\n",
              "      <td>72</td>\n",
              "      <td>5715</td>\n",
              "      <td>1127</td>\n",
              "      <td>5</td>\n",
              "      <td>184</td>\n",
              "      <td>3</td>\n",
              "      <td>yes</td>\n",
              "      <td>2</td>\n",
              "      <td>1</td>\n",
              "      <td>0</td>\n",
              "      <td>0</td>\n",
              "      <td>0</td>\n",
              "      <td>0.0</td>\n",
              "      <td>0.0</td>\n",
              "      <td>0.0</td>\n",
              "      <td>0.0</td>\n",
              "      <td>0.0</td>\n",
              "      <td>1.0</td>\n",
              "      <td>0.0</td>\n",
              "      <td>0.0</td>\n",
              "      <td>0.0</td>\n",
              "      <td>0.0</td>\n",
              "      <td>0.0</td>\n",
              "      <td>0.0</td>\n",
              "      <td>0.0</td>\n",
              "      <td>1.0</td>\n",
              "      <td>0.0</td>\n",
              "      <td>1.0</td>\n",
              "      <td>0.0</td>\n",
              "      <td>0.0</td>\n",
              "    </tr>\n",
              "    <tr>\n",
              "      <th>45208</th>\n",
              "      <td>57</td>\n",
              "      <td>668</td>\n",
              "      <td>508</td>\n",
              "      <td>4</td>\n",
              "      <td>-1</td>\n",
              "      <td>0</td>\n",
              "      <td>no</td>\n",
              "      <td>2</td>\n",
              "      <td>0</td>\n",
              "      <td>0</td>\n",
              "      <td>0</td>\n",
              "      <td>0</td>\n",
              "      <td>0.0</td>\n",
              "      <td>1.0</td>\n",
              "      <td>0.0</td>\n",
              "      <td>0.0</td>\n",
              "      <td>0.0</td>\n",
              "      <td>0.0</td>\n",
              "      <td>0.0</td>\n",
              "      <td>0.0</td>\n",
              "      <td>0.0</td>\n",
              "      <td>0.0</td>\n",
              "      <td>0.0</td>\n",
              "      <td>0.0</td>\n",
              "      <td>0.0</td>\n",
              "      <td>1.0</td>\n",
              "      <td>0.0</td>\n",
              "      <td>0.0</td>\n",
              "      <td>1.0</td>\n",
              "      <td>0.0</td>\n",
              "    </tr>\n",
              "    <tr>\n",
              "      <th>45209</th>\n",
              "      <td>37</td>\n",
              "      <td>2971</td>\n",
              "      <td>361</td>\n",
              "      <td>2</td>\n",
              "      <td>188</td>\n",
              "      <td>11</td>\n",
              "      <td>no</td>\n",
              "      <td>2</td>\n",
              "      <td>0</td>\n",
              "      <td>0</td>\n",
              "      <td>0</td>\n",
              "      <td>0</td>\n",
              "      <td>0.0</td>\n",
              "      <td>0.0</td>\n",
              "      <td>1.0</td>\n",
              "      <td>0.0</td>\n",
              "      <td>0.0</td>\n",
              "      <td>0.0</td>\n",
              "      <td>0.0</td>\n",
              "      <td>0.0</td>\n",
              "      <td>0.0</td>\n",
              "      <td>0.0</td>\n",
              "      <td>0.0</td>\n",
              "      <td>0.0</td>\n",
              "      <td>0.0</td>\n",
              "      <td>1.0</td>\n",
              "      <td>0.0</td>\n",
              "      <td>1.0</td>\n",
              "      <td>0.0</td>\n",
              "      <td>0.0</td>\n",
              "    </tr>\n",
              "  </tbody>\n",
              "</table>\n",
              "</div>"
            ],
            "text/plain": [
              "       age  balance  duration  campaign  ...  marital3  contact1 contact2  contact3\n",
              "45205   51      825       977         3  ...       0.0       1.0      0.0       0.0\n",
              "45206   71     1729       456         2  ...       0.0       1.0      0.0       0.0\n",
              "45207   72     5715      1127         5  ...       0.0       1.0      0.0       0.0\n",
              "45208   57      668       508         4  ...       0.0       0.0      1.0       0.0\n",
              "45209   37     2971       361         2  ...       0.0       1.0      0.0       0.0\n",
              "\n",
              "[5 rows x 30 columns]"
            ]
          },
          "metadata": {
            "tags": []
          },
          "execution_count": 144
        }
      ]
    },
    {
      "cell_type": "code",
      "metadata": {
        "id": "O-NPSEfqILgX",
        "colab_type": "code",
        "outputId": "eb2e5f3b-be94-4d09-de7c-75dc8fffe8cc",
        "colab": {
          "base_uri": "https://localhost:8080/",
          "height": 35
        }
      },
      "source": [
        "bank_full.shape"
      ],
      "execution_count": 145,
      "outputs": [
        {
          "output_type": "execute_result",
          "data": {
            "text/plain": [
              "(45210, 12)"
            ]
          },
          "metadata": {
            "tags": []
          },
          "execution_count": 145
        }
      ]
    },
    {
      "cell_type": "code",
      "metadata": {
        "id": "nrOIczdKFnaD",
        "colab_type": "code",
        "outputId": "f06195fe-f338-44ea-c78b-1c4abbfaa77c",
        "colab": {
          "base_uri": "https://localhost:8080/",
          "height": 35
        }
      },
      "source": [
        "bank_full_encoded.shape"
      ],
      "execution_count": 146,
      "outputs": [
        {
          "output_type": "execute_result",
          "data": {
            "text/plain": [
              "(45210, 30)"
            ]
          },
          "metadata": {
            "tags": []
          },
          "execution_count": 146
        }
      ]
    },
    {
      "cell_type": "code",
      "metadata": {
        "id": "0XzOxhw4AZOe",
        "colab_type": "code",
        "outputId": "77fc9396-4b5a-4768-dce1-46e54a85a16c",
        "colab": {
          "base_uri": "https://localhost:8080/",
          "height": 72
        }
      },
      "source": [
        "bank_full_encoded.y.value_counts() # imbalanced data"
      ],
      "execution_count": 147,
      "outputs": [
        {
          "output_type": "execute_result",
          "data": {
            "text/plain": [
              "no     39921\n",
              "yes     5289\n",
              "Name: y, dtype: int64"
            ]
          },
          "metadata": {
            "tags": []
          },
          "execution_count": 147
        }
      ]
    },
    {
      "cell_type": "markdown",
      "metadata": {
        "id": "_Fh3Jhq8Epm5",
        "colab_type": "text"
      },
      "source": [
        "Let's firstly go on without filtering features. "
      ]
    },
    {
      "cell_type": "code",
      "metadata": {
        "id": "EYRMX9lMBoJf",
        "colab_type": "code",
        "colab": {}
      },
      "source": [
        "from imblearn.over_sampling import SMOTE "
      ],
      "execution_count": 0,
      "outputs": []
    },
    {
      "cell_type": "code",
      "metadata": {
        "id": "hCzcWx1-B0Cc",
        "colab_type": "code",
        "colab": {}
      },
      "source": [
        "sm = SMOTE(random_state=42)"
      ],
      "execution_count": 0,
      "outputs": []
    },
    {
      "cell_type": "code",
      "metadata": {
        "id": "SI9_-Pi_B-sH",
        "colab_type": "code",
        "colab": {}
      },
      "source": [
        "X = bank_full_encoded.drop(columns=['y'], axis=1)"
      ],
      "execution_count": 0,
      "outputs": []
    },
    {
      "cell_type": "code",
      "metadata": {
        "id": "b2BSNKoWEQDE",
        "colab_type": "code",
        "outputId": "8935c0fd-8c17-4d95-ca76-6641d6a3b448",
        "colab": {
          "base_uri": "https://localhost:8080/",
          "height": 35
        }
      },
      "source": [
        "X.shape"
      ],
      "execution_count": 151,
      "outputs": [
        {
          "output_type": "execute_result",
          "data": {
            "text/plain": [
              "(45210, 29)"
            ]
          },
          "metadata": {
            "tags": []
          },
          "execution_count": 151
        }
      ]
    },
    {
      "cell_type": "code",
      "metadata": {
        "id": "3Jac0cq3ES3A",
        "colab_type": "code",
        "colab": {}
      },
      "source": [
        "y = bank_full_encoded.y"
      ],
      "execution_count": 0,
      "outputs": []
    },
    {
      "cell_type": "code",
      "metadata": {
        "id": "t1mzflUMEYL7",
        "colab_type": "code",
        "outputId": "cea90564-4da9-452a-c172-57b8266449fd",
        "colab": {
          "base_uri": "https://localhost:8080/",
          "height": 35
        }
      },
      "source": [
        "y.shape"
      ],
      "execution_count": 48,
      "outputs": [
        {
          "output_type": "execute_result",
          "data": {
            "text/plain": [
              "(45210,)"
            ]
          },
          "metadata": {
            "tags": []
          },
          "execution_count": 48
        }
      ]
    },
    {
      "cell_type": "code",
      "metadata": {
        "id": "_U8xqRcCEwru",
        "colab_type": "code",
        "outputId": "b7c4ceb7-f5b3-41dd-cf50-ca5b29e4be09",
        "colab": {
          "base_uri": "https://localhost:8080/",
          "height": 218
        }
      },
      "source": [
        "bank_full_encoded.head()"
      ],
      "execution_count": 153,
      "outputs": [
        {
          "output_type": "execute_result",
          "data": {
            "text/html": [
              "<div>\n",
              "<style scoped>\n",
              "    .dataframe tbody tr th:only-of-type {\n",
              "        vertical-align: middle;\n",
              "    }\n",
              "\n",
              "    .dataframe tbody tr th {\n",
              "        vertical-align: top;\n",
              "    }\n",
              "\n",
              "    .dataframe thead th {\n",
              "        text-align: right;\n",
              "    }\n",
              "</style>\n",
              "<table border=\"1\" class=\"dataframe\">\n",
              "  <thead>\n",
              "    <tr style=\"text-align: right;\">\n",
              "      <th></th>\n",
              "      <th>age</th>\n",
              "      <th>balance</th>\n",
              "      <th>duration</th>\n",
              "      <th>campaign</th>\n",
              "      <th>pdays</th>\n",
              "      <th>previous</th>\n",
              "      <th>y</th>\n",
              "      <th>education_ord</th>\n",
              "      <th>poutcome_ord</th>\n",
              "      <th>default_encoded</th>\n",
              "      <th>housing_encoded</th>\n",
              "      <th>loan_encoded</th>\n",
              "      <th>job1</th>\n",
              "      <th>job2</th>\n",
              "      <th>job3</th>\n",
              "      <th>job4</th>\n",
              "      <th>job5</th>\n",
              "      <th>job6</th>\n",
              "      <th>job7</th>\n",
              "      <th>job8</th>\n",
              "      <th>job9</th>\n",
              "      <th>job10</th>\n",
              "      <th>job11</th>\n",
              "      <th>job12</th>\n",
              "      <th>marital1</th>\n",
              "      <th>marital2</th>\n",
              "      <th>marital3</th>\n",
              "      <th>contact1</th>\n",
              "      <th>contact2</th>\n",
              "      <th>contact3</th>\n",
              "    </tr>\n",
              "  </thead>\n",
              "  <tbody>\n",
              "    <tr>\n",
              "      <th>0</th>\n",
              "      <td>58</td>\n",
              "      <td>2143</td>\n",
              "      <td>261</td>\n",
              "      <td>1</td>\n",
              "      <td>-1</td>\n",
              "      <td>0</td>\n",
              "      <td>no</td>\n",
              "      <td>3</td>\n",
              "      <td>0</td>\n",
              "      <td>0</td>\n",
              "      <td>1</td>\n",
              "      <td>0</td>\n",
              "      <td>0.0</td>\n",
              "      <td>0.0</td>\n",
              "      <td>0.0</td>\n",
              "      <td>0.0</td>\n",
              "      <td>1.0</td>\n",
              "      <td>0.0</td>\n",
              "      <td>0.0</td>\n",
              "      <td>0.0</td>\n",
              "      <td>0.0</td>\n",
              "      <td>0.0</td>\n",
              "      <td>0.0</td>\n",
              "      <td>0.0</td>\n",
              "      <td>0.0</td>\n",
              "      <td>1.0</td>\n",
              "      <td>0.0</td>\n",
              "      <td>0.0</td>\n",
              "      <td>0.0</td>\n",
              "      <td>1.0</td>\n",
              "    </tr>\n",
              "    <tr>\n",
              "      <th>1</th>\n",
              "      <td>44</td>\n",
              "      <td>29</td>\n",
              "      <td>151</td>\n",
              "      <td>1</td>\n",
              "      <td>-1</td>\n",
              "      <td>0</td>\n",
              "      <td>no</td>\n",
              "      <td>2</td>\n",
              "      <td>0</td>\n",
              "      <td>0</td>\n",
              "      <td>1</td>\n",
              "      <td>0</td>\n",
              "      <td>0.0</td>\n",
              "      <td>0.0</td>\n",
              "      <td>0.0</td>\n",
              "      <td>0.0</td>\n",
              "      <td>0.0</td>\n",
              "      <td>0.0</td>\n",
              "      <td>0.0</td>\n",
              "      <td>0.0</td>\n",
              "      <td>0.0</td>\n",
              "      <td>1.0</td>\n",
              "      <td>0.0</td>\n",
              "      <td>0.0</td>\n",
              "      <td>0.0</td>\n",
              "      <td>0.0</td>\n",
              "      <td>1.0</td>\n",
              "      <td>0.0</td>\n",
              "      <td>0.0</td>\n",
              "      <td>1.0</td>\n",
              "    </tr>\n",
              "    <tr>\n",
              "      <th>2</th>\n",
              "      <td>33</td>\n",
              "      <td>2</td>\n",
              "      <td>76</td>\n",
              "      <td>1</td>\n",
              "      <td>-1</td>\n",
              "      <td>0</td>\n",
              "      <td>no</td>\n",
              "      <td>2</td>\n",
              "      <td>0</td>\n",
              "      <td>0</td>\n",
              "      <td>1</td>\n",
              "      <td>1</td>\n",
              "      <td>0.0</td>\n",
              "      <td>0.0</td>\n",
              "      <td>1.0</td>\n",
              "      <td>0.0</td>\n",
              "      <td>0.0</td>\n",
              "      <td>0.0</td>\n",
              "      <td>0.0</td>\n",
              "      <td>0.0</td>\n",
              "      <td>0.0</td>\n",
              "      <td>0.0</td>\n",
              "      <td>0.0</td>\n",
              "      <td>0.0</td>\n",
              "      <td>0.0</td>\n",
              "      <td>1.0</td>\n",
              "      <td>0.0</td>\n",
              "      <td>0.0</td>\n",
              "      <td>0.0</td>\n",
              "      <td>1.0</td>\n",
              "    </tr>\n",
              "    <tr>\n",
              "      <th>3</th>\n",
              "      <td>47</td>\n",
              "      <td>1506</td>\n",
              "      <td>92</td>\n",
              "      <td>1</td>\n",
              "      <td>-1</td>\n",
              "      <td>0</td>\n",
              "      <td>no</td>\n",
              "      <td>0</td>\n",
              "      <td>0</td>\n",
              "      <td>0</td>\n",
              "      <td>1</td>\n",
              "      <td>0</td>\n",
              "      <td>0.0</td>\n",
              "      <td>1.0</td>\n",
              "      <td>0.0</td>\n",
              "      <td>0.0</td>\n",
              "      <td>0.0</td>\n",
              "      <td>0.0</td>\n",
              "      <td>0.0</td>\n",
              "      <td>0.0</td>\n",
              "      <td>0.0</td>\n",
              "      <td>0.0</td>\n",
              "      <td>0.0</td>\n",
              "      <td>0.0</td>\n",
              "      <td>0.0</td>\n",
              "      <td>1.0</td>\n",
              "      <td>0.0</td>\n",
              "      <td>0.0</td>\n",
              "      <td>0.0</td>\n",
              "      <td>1.0</td>\n",
              "    </tr>\n",
              "    <tr>\n",
              "      <th>4</th>\n",
              "      <td>33</td>\n",
              "      <td>1</td>\n",
              "      <td>198</td>\n",
              "      <td>1</td>\n",
              "      <td>-1</td>\n",
              "      <td>0</td>\n",
              "      <td>no</td>\n",
              "      <td>0</td>\n",
              "      <td>0</td>\n",
              "      <td>0</td>\n",
              "      <td>0</td>\n",
              "      <td>0</td>\n",
              "      <td>0.0</td>\n",
              "      <td>0.0</td>\n",
              "      <td>0.0</td>\n",
              "      <td>0.0</td>\n",
              "      <td>0.0</td>\n",
              "      <td>0.0</td>\n",
              "      <td>0.0</td>\n",
              "      <td>0.0</td>\n",
              "      <td>0.0</td>\n",
              "      <td>0.0</td>\n",
              "      <td>0.0</td>\n",
              "      <td>1.0</td>\n",
              "      <td>0.0</td>\n",
              "      <td>0.0</td>\n",
              "      <td>1.0</td>\n",
              "      <td>0.0</td>\n",
              "      <td>0.0</td>\n",
              "      <td>1.0</td>\n",
              "    </tr>\n",
              "  </tbody>\n",
              "</table>\n",
              "</div>"
            ],
            "text/plain": [
              "   age  balance  duration  campaign  ...  marital3  contact1 contact2  contact3\n",
              "0   58     2143       261         1  ...       0.0       0.0      0.0       1.0\n",
              "1   44       29       151         1  ...       1.0       0.0      0.0       1.0\n",
              "2   33        2        76         1  ...       0.0       0.0      0.0       1.0\n",
              "3   47     1506        92         1  ...       0.0       0.0      0.0       1.0\n",
              "4   33        1       198         1  ...       1.0       0.0      0.0       1.0\n",
              "\n",
              "[5 rows x 30 columns]"
            ]
          },
          "metadata": {
            "tags": []
          },
          "execution_count": 153
        }
      ]
    },
    {
      "cell_type": "code",
      "metadata": {
        "id": "irQu-YNKEdf5",
        "colab_type": "code",
        "outputId": "d8f1d0de-a469-4de9-ee09-644db9770435",
        "colab": {
          "base_uri": "https://localhost:8080/",
          "height": 74
        }
      },
      "source": [
        "X_res, y_res = sm.fit_resample(X, y)"
      ],
      "execution_count": 154,
      "outputs": [
        {
          "output_type": "stream",
          "text": [
            "/usr/local/lib/python3.6/dist-packages/sklearn/utils/deprecation.py:87: FutureWarning: Function safe_indexing is deprecated; safe_indexing is deprecated in version 0.22 and will be removed in version 0.24.\n",
            "  warnings.warn(msg, category=FutureWarning)\n"
          ],
          "name": "stderr"
        }
      ]
    },
    {
      "cell_type": "code",
      "metadata": {
        "id": "Hms76u4-mLM7",
        "colab_type": "code",
        "colab": {
          "base_uri": "https://localhost:8080/",
          "height": 35
        },
        "outputId": "afc9b9fb-acaf-431b-8f95-4b036d127c77"
      },
      "source": [
        "X_res.shape"
      ],
      "execution_count": 155,
      "outputs": [
        {
          "output_type": "execute_result",
          "data": {
            "text/plain": [
              "(79842, 29)"
            ]
          },
          "metadata": {
            "tags": []
          },
          "execution_count": 155
        }
      ]
    },
    {
      "cell_type": "code",
      "metadata": {
        "id": "ZCHGDOz5mN-e",
        "colab_type": "code",
        "colab": {
          "base_uri": "https://localhost:8080/",
          "height": 35
        },
        "outputId": "21409d17-3828-426a-92d9-346649040136"
      },
      "source": [
        "y_res.shape"
      ],
      "execution_count": 156,
      "outputs": [
        {
          "output_type": "execute_result",
          "data": {
            "text/plain": [
              "(79842,)"
            ]
          },
          "metadata": {
            "tags": []
          },
          "execution_count": 156
        }
      ]
    },
    {
      "cell_type": "code",
      "metadata": {
        "id": "9JpEcMAqmanY",
        "colab_type": "code",
        "colab": {}
      },
      "source": [
        "X_res_df = pd.DataFrame(X_res)\n",
        "y_res_df = pd.DataFrame(y_res)"
      ],
      "execution_count": 0,
      "outputs": []
    },
    {
      "cell_type": "code",
      "metadata": {
        "id": "8jBaEFLjmrkm",
        "colab_type": "code",
        "colab": {}
      },
      "source": [
        "y_res_df.columns = ['y']"
      ],
      "execution_count": 0,
      "outputs": []
    },
    {
      "cell_type": "code",
      "metadata": {
        "id": "lM6_kQ72mTTo",
        "colab_type": "code",
        "colab": {
          "base_uri": "https://localhost:8080/",
          "height": 72
        },
        "outputId": "2fe06568-1daa-4d01-b0aa-3797f082dd12"
      },
      "source": [
        "y_res_df.y.value_counts() # imbalanced data"
      ],
      "execution_count": 159,
      "outputs": [
        {
          "output_type": "execute_result",
          "data": {
            "text/plain": [
              "yes    39921\n",
              "no     39921\n",
              "Name: y, dtype: int64"
            ]
          },
          "metadata": {
            "tags": []
          },
          "execution_count": 159
        }
      ]
    },
    {
      "cell_type": "code",
      "metadata": {
        "id": "6wit9Lt3oCmQ",
        "colab_type": "code",
        "colab": {}
      },
      "source": [
        "temp3 = {'yes':1, 'no' :0}\n",
        "y_res_df['target'] = y_res_df.y.map(temp3)\n",
        "y_res_df.drop(columns = ['y'], inplace = True)"
      ],
      "execution_count": 0,
      "outputs": []
    },
    {
      "cell_type": "markdown",
      "metadata": {
        "id": "boirFZnFmzIc",
        "colab_type": "text"
      },
      "source": [
        "Now we have balanced data."
      ]
    },
    {
      "cell_type": "code",
      "metadata": {
        "id": "Ayx2Li-8pC-X",
        "colab_type": "code",
        "colab": {
          "base_uri": "https://localhost:8080/",
          "height": 126
        },
        "outputId": "b42d273c-2500-48e9-fe02-21a3d5310815"
      },
      "source": [
        "bank_full_encoded.columns"
      ],
      "execution_count": 161,
      "outputs": [
        {
          "output_type": "execute_result",
          "data": {
            "text/plain": [
              "Index(['age', 'balance', 'duration', 'campaign', 'pdays', 'previous', 'y',\n",
              "       'education_ord', 'poutcome_ord', 'default_encoded', 'housing_encoded',\n",
              "       'loan_encoded', 'job1', 'job2', 'job3', 'job4', 'job5', 'job6', 'job7',\n",
              "       'job8', 'job9', 'job10', 'job11', 'job12', 'marital1', 'marital2',\n",
              "       'marital3', 'contact1', 'contact2', 'contact3'],\n",
              "      dtype='object')"
            ]
          },
          "metadata": {
            "tags": []
          },
          "execution_count": 161
        }
      ]
    },
    {
      "cell_type": "code",
      "metadata": {
        "id": "9KsIuBOnm1_u",
        "colab_type": "code",
        "colab": {}
      },
      "source": [
        "X_res_df.columns = ['age', 'balance', 'duration', 'campaign', 'pdays', 'previous',\n",
        "       'education_ord', 'poutcome_ord', 'default_encoded', 'housing_encoded',\n",
        "       'loan_encoded', 'job1', 'job2', 'job3', 'job4', 'job5', 'job6', 'job7',\n",
        "       'job8', 'job9', 'job10', 'job11', 'job12', 'marital1', 'marital2',\n",
        "       'marital3', 'contact1', 'contact2', 'contact3']"
      ],
      "execution_count": 0,
      "outputs": []
    },
    {
      "cell_type": "code",
      "metadata": {
        "id": "Y2dVPMoDpNcY",
        "colab_type": "code",
        "colab": {
          "base_uri": "https://localhost:8080/",
          "height": 218
        },
        "outputId": "9fd39aa3-bd88-488c-96d9-8256a8c492ff"
      },
      "source": [
        "X_res_df.head()"
      ],
      "execution_count": 163,
      "outputs": [
        {
          "output_type": "execute_result",
          "data": {
            "text/html": [
              "<div>\n",
              "<style scoped>\n",
              "    .dataframe tbody tr th:only-of-type {\n",
              "        vertical-align: middle;\n",
              "    }\n",
              "\n",
              "    .dataframe tbody tr th {\n",
              "        vertical-align: top;\n",
              "    }\n",
              "\n",
              "    .dataframe thead th {\n",
              "        text-align: right;\n",
              "    }\n",
              "</style>\n",
              "<table border=\"1\" class=\"dataframe\">\n",
              "  <thead>\n",
              "    <tr style=\"text-align: right;\">\n",
              "      <th></th>\n",
              "      <th>age</th>\n",
              "      <th>balance</th>\n",
              "      <th>duration</th>\n",
              "      <th>campaign</th>\n",
              "      <th>pdays</th>\n",
              "      <th>previous</th>\n",
              "      <th>education_ord</th>\n",
              "      <th>poutcome_ord</th>\n",
              "      <th>default_encoded</th>\n",
              "      <th>housing_encoded</th>\n",
              "      <th>loan_encoded</th>\n",
              "      <th>job1</th>\n",
              "      <th>job2</th>\n",
              "      <th>job3</th>\n",
              "      <th>job4</th>\n",
              "      <th>job5</th>\n",
              "      <th>job6</th>\n",
              "      <th>job7</th>\n",
              "      <th>job8</th>\n",
              "      <th>job9</th>\n",
              "      <th>job10</th>\n",
              "      <th>job11</th>\n",
              "      <th>job12</th>\n",
              "      <th>marital1</th>\n",
              "      <th>marital2</th>\n",
              "      <th>marital3</th>\n",
              "      <th>contact1</th>\n",
              "      <th>contact2</th>\n",
              "      <th>contact3</th>\n",
              "    </tr>\n",
              "  </thead>\n",
              "  <tbody>\n",
              "    <tr>\n",
              "      <th>0</th>\n",
              "      <td>58.0</td>\n",
              "      <td>2143.0</td>\n",
              "      <td>261.0</td>\n",
              "      <td>1.0</td>\n",
              "      <td>-1.0</td>\n",
              "      <td>0.0</td>\n",
              "      <td>3.0</td>\n",
              "      <td>0.0</td>\n",
              "      <td>0.0</td>\n",
              "      <td>1.0</td>\n",
              "      <td>0.0</td>\n",
              "      <td>0.0</td>\n",
              "      <td>0.0</td>\n",
              "      <td>0.0</td>\n",
              "      <td>0.0</td>\n",
              "      <td>1.0</td>\n",
              "      <td>0.0</td>\n",
              "      <td>0.0</td>\n",
              "      <td>0.0</td>\n",
              "      <td>0.0</td>\n",
              "      <td>0.0</td>\n",
              "      <td>0.0</td>\n",
              "      <td>0.0</td>\n",
              "      <td>0.0</td>\n",
              "      <td>1.0</td>\n",
              "      <td>0.0</td>\n",
              "      <td>0.0</td>\n",
              "      <td>0.0</td>\n",
              "      <td>1.0</td>\n",
              "    </tr>\n",
              "    <tr>\n",
              "      <th>1</th>\n",
              "      <td>44.0</td>\n",
              "      <td>29.0</td>\n",
              "      <td>151.0</td>\n",
              "      <td>1.0</td>\n",
              "      <td>-1.0</td>\n",
              "      <td>0.0</td>\n",
              "      <td>2.0</td>\n",
              "      <td>0.0</td>\n",
              "      <td>0.0</td>\n",
              "      <td>1.0</td>\n",
              "      <td>0.0</td>\n",
              "      <td>0.0</td>\n",
              "      <td>0.0</td>\n",
              "      <td>0.0</td>\n",
              "      <td>0.0</td>\n",
              "      <td>0.0</td>\n",
              "      <td>0.0</td>\n",
              "      <td>0.0</td>\n",
              "      <td>0.0</td>\n",
              "      <td>0.0</td>\n",
              "      <td>1.0</td>\n",
              "      <td>0.0</td>\n",
              "      <td>0.0</td>\n",
              "      <td>0.0</td>\n",
              "      <td>0.0</td>\n",
              "      <td>1.0</td>\n",
              "      <td>0.0</td>\n",
              "      <td>0.0</td>\n",
              "      <td>1.0</td>\n",
              "    </tr>\n",
              "    <tr>\n",
              "      <th>2</th>\n",
              "      <td>33.0</td>\n",
              "      <td>2.0</td>\n",
              "      <td>76.0</td>\n",
              "      <td>1.0</td>\n",
              "      <td>-1.0</td>\n",
              "      <td>0.0</td>\n",
              "      <td>2.0</td>\n",
              "      <td>0.0</td>\n",
              "      <td>0.0</td>\n",
              "      <td>1.0</td>\n",
              "      <td>1.0</td>\n",
              "      <td>0.0</td>\n",
              "      <td>0.0</td>\n",
              "      <td>1.0</td>\n",
              "      <td>0.0</td>\n",
              "      <td>0.0</td>\n",
              "      <td>0.0</td>\n",
              "      <td>0.0</td>\n",
              "      <td>0.0</td>\n",
              "      <td>0.0</td>\n",
              "      <td>0.0</td>\n",
              "      <td>0.0</td>\n",
              "      <td>0.0</td>\n",
              "      <td>0.0</td>\n",
              "      <td>1.0</td>\n",
              "      <td>0.0</td>\n",
              "      <td>0.0</td>\n",
              "      <td>0.0</td>\n",
              "      <td>1.0</td>\n",
              "    </tr>\n",
              "    <tr>\n",
              "      <th>3</th>\n",
              "      <td>47.0</td>\n",
              "      <td>1506.0</td>\n",
              "      <td>92.0</td>\n",
              "      <td>1.0</td>\n",
              "      <td>-1.0</td>\n",
              "      <td>0.0</td>\n",
              "      <td>0.0</td>\n",
              "      <td>0.0</td>\n",
              "      <td>0.0</td>\n",
              "      <td>1.0</td>\n",
              "      <td>0.0</td>\n",
              "      <td>0.0</td>\n",
              "      <td>1.0</td>\n",
              "      <td>0.0</td>\n",
              "      <td>0.0</td>\n",
              "      <td>0.0</td>\n",
              "      <td>0.0</td>\n",
              "      <td>0.0</td>\n",
              "      <td>0.0</td>\n",
              "      <td>0.0</td>\n",
              "      <td>0.0</td>\n",
              "      <td>0.0</td>\n",
              "      <td>0.0</td>\n",
              "      <td>0.0</td>\n",
              "      <td>1.0</td>\n",
              "      <td>0.0</td>\n",
              "      <td>0.0</td>\n",
              "      <td>0.0</td>\n",
              "      <td>1.0</td>\n",
              "    </tr>\n",
              "    <tr>\n",
              "      <th>4</th>\n",
              "      <td>33.0</td>\n",
              "      <td>1.0</td>\n",
              "      <td>198.0</td>\n",
              "      <td>1.0</td>\n",
              "      <td>-1.0</td>\n",
              "      <td>0.0</td>\n",
              "      <td>0.0</td>\n",
              "      <td>0.0</td>\n",
              "      <td>0.0</td>\n",
              "      <td>0.0</td>\n",
              "      <td>0.0</td>\n",
              "      <td>0.0</td>\n",
              "      <td>0.0</td>\n",
              "      <td>0.0</td>\n",
              "      <td>0.0</td>\n",
              "      <td>0.0</td>\n",
              "      <td>0.0</td>\n",
              "      <td>0.0</td>\n",
              "      <td>0.0</td>\n",
              "      <td>0.0</td>\n",
              "      <td>0.0</td>\n",
              "      <td>0.0</td>\n",
              "      <td>1.0</td>\n",
              "      <td>0.0</td>\n",
              "      <td>0.0</td>\n",
              "      <td>1.0</td>\n",
              "      <td>0.0</td>\n",
              "      <td>0.0</td>\n",
              "      <td>1.0</td>\n",
              "    </tr>\n",
              "  </tbody>\n",
              "</table>\n",
              "</div>"
            ],
            "text/plain": [
              "    age  balance  duration  campaign  ...  marital3  contact1  contact2  contact3\n",
              "0  58.0   2143.0     261.0       1.0  ...       0.0       0.0       0.0       1.0\n",
              "1  44.0     29.0     151.0       1.0  ...       1.0       0.0       0.0       1.0\n",
              "2  33.0      2.0      76.0       1.0  ...       0.0       0.0       0.0       1.0\n",
              "3  47.0   1506.0      92.0       1.0  ...       0.0       0.0       0.0       1.0\n",
              "4  33.0      1.0     198.0       1.0  ...       1.0       0.0       0.0       1.0\n",
              "\n",
              "[5 rows x 29 columns]"
            ]
          },
          "metadata": {
            "tags": []
          },
          "execution_count": 163
        }
      ]
    },
    {
      "cell_type": "code",
      "metadata": {
        "id": "auuUqGfjqgNx",
        "colab_type": "code",
        "colab": {}
      },
      "source": [
        "from sklearn import preprocessing\n",
        "\n",
        "scaler = preprocessing.StandardScaler()"
      ],
      "execution_count": 0,
      "outputs": []
    },
    {
      "cell_type": "code",
      "metadata": {
        "id": "7wpctqyjqvP9",
        "colab_type": "code",
        "colab": {}
      },
      "source": [
        "X_scaled = scaler.fit_transform(X_res_df)\n",
        "X_scaled = pd.DataFrame(X_scaled, columns=X_res_df.columns)"
      ],
      "execution_count": 0,
      "outputs": []
    },
    {
      "cell_type": "code",
      "metadata": {
        "id": "rQZJD63JrHuu",
        "colab_type": "code",
        "colab": {
          "base_uri": "https://localhost:8080/",
          "height": 218
        },
        "outputId": "c88d2a06-f547-49b0-a899-bb9d922a6347"
      },
      "source": [
        "X_scaled.head()"
      ],
      "execution_count": 166,
      "outputs": [
        {
          "output_type": "execute_result",
          "data": {
            "text/html": [
              "<div>\n",
              "<style scoped>\n",
              "    .dataframe tbody tr th:only-of-type {\n",
              "        vertical-align: middle;\n",
              "    }\n",
              "\n",
              "    .dataframe tbody tr th {\n",
              "        vertical-align: top;\n",
              "    }\n",
              "\n",
              "    .dataframe thead th {\n",
              "        text-align: right;\n",
              "    }\n",
              "</style>\n",
              "<table border=\"1\" class=\"dataframe\">\n",
              "  <thead>\n",
              "    <tr style=\"text-align: right;\">\n",
              "      <th></th>\n",
              "      <th>age</th>\n",
              "      <th>balance</th>\n",
              "      <th>duration</th>\n",
              "      <th>campaign</th>\n",
              "      <th>pdays</th>\n",
              "      <th>previous</th>\n",
              "      <th>education_ord</th>\n",
              "      <th>poutcome_ord</th>\n",
              "      <th>default_encoded</th>\n",
              "      <th>housing_encoded</th>\n",
              "      <th>loan_encoded</th>\n",
              "      <th>job1</th>\n",
              "      <th>job2</th>\n",
              "      <th>job3</th>\n",
              "      <th>job4</th>\n",
              "      <th>job5</th>\n",
              "      <th>job6</th>\n",
              "      <th>job7</th>\n",
              "      <th>job8</th>\n",
              "      <th>job9</th>\n",
              "      <th>job10</th>\n",
              "      <th>job11</th>\n",
              "      <th>job12</th>\n",
              "      <th>marital1</th>\n",
              "      <th>marital2</th>\n",
              "      <th>marital3</th>\n",
              "      <th>contact1</th>\n",
              "      <th>contact2</th>\n",
              "      <th>contact3</th>\n",
              "    </tr>\n",
              "  </thead>\n",
              "  <tbody>\n",
              "    <tr>\n",
              "      <th>0</th>\n",
              "      <td>1.545355</td>\n",
              "      <td>0.188201</td>\n",
              "      <td>-0.335253</td>\n",
              "      <td>-0.582616</td>\n",
              "      <td>-0.488137</td>\n",
              "      <td>-0.358308</td>\n",
              "      <td>1.208740</td>\n",
              "      <td>0.028359</td>\n",
              "      <td>-0.128483</td>\n",
              "      <td>1.125462</td>\n",
              "      <td>-0.410066</td>\n",
              "      <td>-0.393701</td>\n",
              "      <td>-0.497960</td>\n",
              "      <td>-0.182791</td>\n",
              "      <td>-0.169074</td>\n",
              "      <td>2.00061</td>\n",
              "      <td>-0.294999</td>\n",
              "      <td>-0.205533</td>\n",
              "      <td>-0.320211</td>\n",
              "      <td>-0.20784</td>\n",
              "      <td>-0.478445</td>\n",
              "      <td>-0.202296</td>\n",
              "      <td>-0.087242</td>\n",
              "      <td>-0.389566</td>\n",
              "      <td>0.944475</td>\n",
              "      <td>-0.739131</td>\n",
              "      <td>-1.713971</td>\n",
              "      <td>-0.288962</td>\n",
              "      <td>2.032007</td>\n",
              "    </tr>\n",
              "    <tr>\n",
              "      <th>1</th>\n",
              "      <td>0.266218</td>\n",
              "      <td>-0.480441</td>\n",
              "      <td>-0.652757</td>\n",
              "      <td>-0.582616</td>\n",
              "      <td>-0.488137</td>\n",
              "      <td>-0.358308</td>\n",
              "      <td>-0.155273</td>\n",
              "      <td>0.028359</td>\n",
              "      <td>-0.128483</td>\n",
              "      <td>1.125462</td>\n",
              "      <td>-0.410066</td>\n",
              "      <td>-0.393701</td>\n",
              "      <td>-0.497960</td>\n",
              "      <td>-0.182791</td>\n",
              "      <td>-0.169074</td>\n",
              "      <td>-0.58954</td>\n",
              "      <td>-0.294999</td>\n",
              "      <td>-0.205533</td>\n",
              "      <td>-0.320211</td>\n",
              "      <td>-0.20784</td>\n",
              "      <td>2.433206</td>\n",
              "      <td>-0.202296</td>\n",
              "      <td>-0.087242</td>\n",
              "      <td>-0.389566</td>\n",
              "      <td>-1.230817</td>\n",
              "      <td>1.579465</td>\n",
              "      <td>-1.713971</td>\n",
              "      <td>-0.288962</td>\n",
              "      <td>2.032007</td>\n",
              "    </tr>\n",
              "    <tr>\n",
              "      <th>2</th>\n",
              "      <td>-0.738818</td>\n",
              "      <td>-0.488981</td>\n",
              "      <td>-0.869236</td>\n",
              "      <td>-0.582616</td>\n",
              "      <td>-0.488137</td>\n",
              "      <td>-0.358308</td>\n",
              "      <td>-0.155273</td>\n",
              "      <td>0.028359</td>\n",
              "      <td>-0.128483</td>\n",
              "      <td>1.125462</td>\n",
              "      <td>2.715266</td>\n",
              "      <td>-0.393701</td>\n",
              "      <td>-0.497960</td>\n",
              "      <td>6.194427</td>\n",
              "      <td>-0.169074</td>\n",
              "      <td>-0.58954</td>\n",
              "      <td>-0.294999</td>\n",
              "      <td>-0.205533</td>\n",
              "      <td>-0.320211</td>\n",
              "      <td>-0.20784</td>\n",
              "      <td>-0.478445</td>\n",
              "      <td>-0.202296</td>\n",
              "      <td>-0.087242</td>\n",
              "      <td>-0.389566</td>\n",
              "      <td>0.944475</td>\n",
              "      <td>-0.739131</td>\n",
              "      <td>-1.713971</td>\n",
              "      <td>-0.288962</td>\n",
              "      <td>2.032007</td>\n",
              "    </tr>\n",
              "    <tr>\n",
              "      <th>3</th>\n",
              "      <td>0.540319</td>\n",
              "      <td>-0.013277</td>\n",
              "      <td>-0.823054</td>\n",
              "      <td>-0.582616</td>\n",
              "      <td>-0.488137</td>\n",
              "      <td>-0.358308</td>\n",
              "      <td>-2.883297</td>\n",
              "      <td>0.028359</td>\n",
              "      <td>-0.128483</td>\n",
              "      <td>1.125462</td>\n",
              "      <td>-0.410066</td>\n",
              "      <td>-0.393701</td>\n",
              "      <td>2.260262</td>\n",
              "      <td>-0.182791</td>\n",
              "      <td>-0.169074</td>\n",
              "      <td>-0.58954</td>\n",
              "      <td>-0.294999</td>\n",
              "      <td>-0.205533</td>\n",
              "      <td>-0.320211</td>\n",
              "      <td>-0.20784</td>\n",
              "      <td>-0.478445</td>\n",
              "      <td>-0.202296</td>\n",
              "      <td>-0.087242</td>\n",
              "      <td>-0.389566</td>\n",
              "      <td>0.944475</td>\n",
              "      <td>-0.739131</td>\n",
              "      <td>-1.713971</td>\n",
              "      <td>-0.288962</td>\n",
              "      <td>2.032007</td>\n",
              "    </tr>\n",
              "    <tr>\n",
              "      <th>4</th>\n",
              "      <td>-0.738818</td>\n",
              "      <td>-0.489297</td>\n",
              "      <td>-0.517096</td>\n",
              "      <td>-0.582616</td>\n",
              "      <td>-0.488137</td>\n",
              "      <td>-0.358308</td>\n",
              "      <td>-2.883297</td>\n",
              "      <td>0.028359</td>\n",
              "      <td>-0.128483</td>\n",
              "      <td>-1.009508</td>\n",
              "      <td>-0.410066</td>\n",
              "      <td>-0.393701</td>\n",
              "      <td>-0.497960</td>\n",
              "      <td>-0.182791</td>\n",
              "      <td>-0.169074</td>\n",
              "      <td>-0.58954</td>\n",
              "      <td>-0.294999</td>\n",
              "      <td>-0.205533</td>\n",
              "      <td>-0.320211</td>\n",
              "      <td>-0.20784</td>\n",
              "      <td>-0.478445</td>\n",
              "      <td>-0.202296</td>\n",
              "      <td>13.478522</td>\n",
              "      <td>-0.389566</td>\n",
              "      <td>-1.230817</td>\n",
              "      <td>1.579465</td>\n",
              "      <td>-1.713971</td>\n",
              "      <td>-0.288962</td>\n",
              "      <td>2.032007</td>\n",
              "    </tr>\n",
              "  </tbody>\n",
              "</table>\n",
              "</div>"
            ],
            "text/plain": [
              "        age   balance  duration  ...  contact1  contact2  contact3\n",
              "0  1.545355  0.188201 -0.335253  ... -1.713971 -0.288962  2.032007\n",
              "1  0.266218 -0.480441 -0.652757  ... -1.713971 -0.288962  2.032007\n",
              "2 -0.738818 -0.488981 -0.869236  ... -1.713971 -0.288962  2.032007\n",
              "3  0.540319 -0.013277 -0.823054  ... -1.713971 -0.288962  2.032007\n",
              "4 -0.738818 -0.489297 -0.517096  ... -1.713971 -0.288962  2.032007\n",
              "\n",
              "[5 rows x 29 columns]"
            ]
          },
          "metadata": {
            "tags": []
          },
          "execution_count": 166
        }
      ]
    },
    {
      "cell_type": "code",
      "metadata": {
        "id": "-dxip9Fvr0u-",
        "colab_type": "code",
        "colab": {
          "base_uri": "https://localhost:8080/",
          "height": 165
        },
        "outputId": "ad6ea9b5-5e4d-49d5-d4bd-13d4ff8d20aa"
      },
      "source": [
        "LogReg = LogisticRegression()\n",
        "LogReg.fit(X_scaled, y_res_df)"
      ],
      "execution_count": 167,
      "outputs": [
        {
          "output_type": "stream",
          "text": [
            "/usr/local/lib/python3.6/dist-packages/sklearn/utils/validation.py:760: DataConversionWarning: A column-vector y was passed when a 1d array was expected. Please change the shape of y to (n_samples, ), for example using ravel().\n",
            "  y = column_or_1d(y, warn=True)\n"
          ],
          "name": "stderr"
        },
        {
          "output_type": "execute_result",
          "data": {
            "text/plain": [
              "LogisticRegression(C=1.0, class_weight=None, dual=False, fit_intercept=True,\n",
              "                   intercept_scaling=1, l1_ratio=None, max_iter=100,\n",
              "                   multi_class='auto', n_jobs=None, penalty='l2',\n",
              "                   random_state=None, solver='lbfgs', tol=0.0001, verbose=0,\n",
              "                   warm_start=False)"
            ]
          },
          "metadata": {
            "tags": []
          },
          "execution_count": 167
        }
      ]
    },
    {
      "cell_type": "markdown",
      "metadata": {
        "id": "WTRZN0BfsIYC",
        "colab_type": "text"
      },
      "source": [
        "Let's transform test data."
      ]
    },
    {
      "cell_type": "code",
      "metadata": {
        "id": "Bg4WWyVfsNf5",
        "colab_type": "code",
        "colab": {}
      },
      "source": [
        "bank.drop(columns = ['day', 'month'], axis=1, inplace = True)\n",
        "bank.drop_duplicates(inplace=True)"
      ],
      "execution_count": 0,
      "outputs": []
    },
    {
      "cell_type": "code",
      "metadata": {
        "id": "qu5On28WshSj",
        "colab_type": "code",
        "colab": {
          "base_uri": "https://localhost:8080/",
          "height": 35
        },
        "outputId": "a7efdbd1-6920-4cf9-c3f5-3ab96ed566bb"
      },
      "source": [
        "bank.isnull().sum().sum()"
      ],
      "execution_count": 169,
      "outputs": [
        {
          "output_type": "execute_result",
          "data": {
            "text/plain": [
              "0"
            ]
          },
          "metadata": {
            "tags": []
          },
          "execution_count": 169
        }
      ]
    },
    {
      "cell_type": "code",
      "metadata": {
        "id": "1ivqGRlCsoU8",
        "colab_type": "code",
        "colab": {}
      },
      "source": [
        "onehot_job_test = pd.DataFrame(onehotencoder.fit_transform(bank[['job']]).toarray())\n",
        "onehot_marital_test = pd.DataFrame(onehotencoder.fit_transform(bank[['marital']]).toarray())\n",
        "onehot_contact_test = pd.DataFrame(onehotencoder.fit_transform(bank[['contact']]).toarray())"
      ],
      "execution_count": 0,
      "outputs": []
    },
    {
      "cell_type": "code",
      "metadata": {
        "id": "Sriof32as7Lm",
        "colab_type": "code",
        "colab": {}
      },
      "source": [
        "bank['education_ord'] = bank.education.map(temp)\n",
        "bank['poutcome_ord'] = bank.poutcome.map(temp2)"
      ],
      "execution_count": 0,
      "outputs": []
    },
    {
      "cell_type": "code",
      "metadata": {
        "id": "CLNQ8iGYtPhV",
        "colab_type": "code",
        "colab": {}
      },
      "source": [
        "bank.drop(columns = ['education', 'poutcome'], axis=1, inplace=True)"
      ],
      "execution_count": 0,
      "outputs": []
    },
    {
      "cell_type": "code",
      "metadata": {
        "id": "91FigUoRtlPl",
        "colab_type": "code",
        "colab": {}
      },
      "source": [
        "bank['default_encoded'] = LabelEncoder().fit_transform(bank.default)\n",
        "bank.reset_index(drop = True, inplace = True)"
      ],
      "execution_count": 0,
      "outputs": []
    },
    {
      "cell_type": "code",
      "metadata": {
        "id": "lcY_j_TQttQ3",
        "colab_type": "code",
        "colab": {}
      },
      "source": [
        "bank['housing_encoded'] = LabelEncoder().fit_transform(bank.housing)\n",
        "bank['loan_encoded'] = LabelEncoder().fit_transform(bank.loan)"
      ],
      "execution_count": 0,
      "outputs": []
    },
    {
      "cell_type": "code",
      "metadata": {
        "id": "44fUR3A8t5st",
        "colab_type": "code",
        "colab": {}
      },
      "source": [
        "bank.drop(columns = ['default', 'housing', 'loan'], axis = 1, inplace = True)\n",
        "bank.drop(columns = ['job', 'marital', 'contact'], axis = 1, inplace = True)"
      ],
      "execution_count": 0,
      "outputs": []
    },
    {
      "cell_type": "code",
      "metadata": {
        "id": "7siDKxUPuDHN",
        "colab_type": "code",
        "colab": {}
      },
      "source": [
        "onehot_job_test.columns = ['job1','job2','job3','job4','job5','job6','job7','job8','job9','job10','job11','job12']\n",
        "onehot_marital_test.columns = ['marital1','marital2','marital3']\n",
        "onehot_contact_test.columns = ['contact1','contact2','contact3']\n",
        "bank_encoded = pd.concat([bank, onehot_job_test, onehot_marital_test, onehot_contact_test], axis = 1)"
      ],
      "execution_count": 0,
      "outputs": []
    },
    {
      "cell_type": "code",
      "metadata": {
        "id": "EqWKPpWruW8h",
        "colab_type": "code",
        "colab": {
          "base_uri": "https://localhost:8080/",
          "height": 35
        },
        "outputId": "b9daac95-4f31-4568-f719-7fb06523f30b"
      },
      "source": [
        "bank_encoded.shape"
      ],
      "execution_count": 177,
      "outputs": [
        {
          "output_type": "execute_result",
          "data": {
            "text/plain": [
              "(4521, 30)"
            ]
          },
          "metadata": {
            "tags": []
          },
          "execution_count": 177
        }
      ]
    },
    {
      "cell_type": "code",
      "metadata": {
        "id": "6JEPg5ylunuP",
        "colab_type": "code",
        "colab": {}
      },
      "source": [
        "X_test = bank_encoded.drop(columns=['y'], axis=1)"
      ],
      "execution_count": 0,
      "outputs": []
    },
    {
      "cell_type": "code",
      "metadata": {
        "id": "zp-p2Yjqur3c",
        "colab_type": "code",
        "colab": {}
      },
      "source": [
        "y_test = bank_encoded.y"
      ],
      "execution_count": 0,
      "outputs": []
    },
    {
      "cell_type": "code",
      "metadata": {
        "id": "9ixthSNZvoie",
        "colab_type": "code",
        "colab": {}
      },
      "source": [
        "X_test_df = pd.DataFrame(X_test)\n",
        "y_test_df = pd.DataFrame(y_test)"
      ],
      "execution_count": 0,
      "outputs": []
    },
    {
      "cell_type": "code",
      "metadata": {
        "id": "Hg2LendQvAcT",
        "colab_type": "code",
        "colab": {}
      },
      "source": [
        "y_test_df.columns = ['y']"
      ],
      "execution_count": 0,
      "outputs": []
    },
    {
      "cell_type": "code",
      "metadata": {
        "id": "glz-AWBgu7X7",
        "colab_type": "code",
        "colab": {}
      },
      "source": [
        "y_test_df['target'] = y_test_df.y.map(temp3)\n",
        "y_test_df.drop(columns = ['y'], inplace = True)"
      ],
      "execution_count": 0,
      "outputs": []
    },
    {
      "cell_type": "code",
      "metadata": {
        "id": "dIAvB1WHwHpW",
        "colab_type": "code",
        "colab": {}
      },
      "source": [
        "X_test_df.columns = ['age', 'balance', 'duration', 'campaign', 'pdays', 'previous',\n",
        "       'education_ord', 'poutcome_ord', 'default_encoded', 'housing_encoded',\n",
        "       'loan_encoded', 'job1', 'job2', 'job3', 'job4', 'job5', 'job6', 'job7',\n",
        "       'job8', 'job9', 'job10', 'job11', 'job12', 'marital1', 'marital2',\n",
        "       'marital3', 'contact1', 'contact2', 'contact3']"
      ],
      "execution_count": 0,
      "outputs": []
    },
    {
      "cell_type": "code",
      "metadata": {
        "id": "KOA2Zv4swHgY",
        "colab_type": "code",
        "colab": {}
      },
      "source": [
        "X_test_scaled = scaler.fit_transform(X_test_df)\n",
        "X_test_scaled = pd.DataFrame(X_test_scaled, columns=X_test_df.columns)"
      ],
      "execution_count": 0,
      "outputs": []
    },
    {
      "cell_type": "code",
      "metadata": {
        "id": "ND3HYvQMwo79",
        "colab_type": "code",
        "colab": {}
      },
      "source": [
        "y_predict = LogReg.predict(X_test_scaled)"
      ],
      "execution_count": 0,
      "outputs": []
    },
    {
      "cell_type": "code",
      "metadata": {
        "id": "ZgIZCbNzwvWm",
        "colab_type": "code",
        "colab": {
          "base_uri": "https://localhost:8080/",
          "height": 35
        },
        "outputId": "93ed8272-496c-49d4-e260-5771840aacda"
      },
      "source": [
        "y_predict"
      ],
      "execution_count": 186,
      "outputs": [
        {
          "output_type": "execute_result",
          "data": {
            "text/plain": [
              "array([0, 0, 1, ..., 0, 1, 1])"
            ]
          },
          "metadata": {
            "tags": []
          },
          "execution_count": 186
        }
      ]
    },
    {
      "cell_type": "code",
      "metadata": {
        "id": "I7e6SXWuxCJh",
        "colab_type": "code",
        "colab": {
          "base_uri": "https://localhost:8080/",
          "height": 54
        },
        "outputId": "b4eb92fb-0181-4817-a41c-c428d3c2ce96"
      },
      "source": [
        "from sklearn.metrics import confusion_matrix, accuracy_score, roc_auc_score, precision_score, f1_score, recall_score\n",
        "confusion_matrix(y_test_df, y_predict)"
      ],
      "execution_count": 191,
      "outputs": [
        {
          "output_type": "execute_result",
          "data": {
            "text/plain": [
              "array([[2492, 1508],\n",
              "       [  41,  480]])"
            ]
          },
          "metadata": {
            "tags": []
          },
          "execution_count": 191
        }
      ]
    },
    {
      "cell_type": "code",
      "metadata": {
        "id": "h56xgO2lxkrR",
        "colab_type": "code",
        "colab": {
          "base_uri": "https://localhost:8080/",
          "height": 35
        },
        "outputId": "23ecfda4-368b-4090-cb80-0bcd01afc957"
      },
      "source": [
        "roc_auc_score(y_test_df, y_predict)"
      ],
      "execution_count": 188,
      "outputs": [
        {
          "output_type": "execute_result",
          "data": {
            "text/plain": [
              "0.7721525911708254"
            ]
          },
          "metadata": {
            "tags": []
          },
          "execution_count": 188
        }
      ]
    },
    {
      "cell_type": "code",
      "metadata": {
        "id": "lXQylGGazCCR",
        "colab_type": "code",
        "colab": {
          "base_uri": "https://localhost:8080/",
          "height": 35
        },
        "outputId": "08cfe2a9-c0dd-4ad6-b2bf-88fce2af3c90"
      },
      "source": [
        "precision_score(y_test_df, y_predict)"
      ],
      "execution_count": 189,
      "outputs": [
        {
          "output_type": "execute_result",
          "data": {
            "text/plain": [
              "0.2414486921529175"
            ]
          },
          "metadata": {
            "tags": []
          },
          "execution_count": 189
        }
      ]
    },
    {
      "cell_type": "code",
      "metadata": {
        "id": "CsdWYszpzgbj",
        "colab_type": "code",
        "colab": {
          "base_uri": "https://localhost:8080/",
          "height": 35
        },
        "outputId": "22d81ab0-2890-44a6-f226-174cb39ae138"
      },
      "source": [
        "f1_score(y_test_df, y_predict)"
      ],
      "execution_count": 190,
      "outputs": [
        {
          "output_type": "execute_result",
          "data": {
            "text/plain": [
              "0.3826225587883619"
            ]
          },
          "metadata": {
            "tags": []
          },
          "execution_count": 190
        }
      ]
    },
    {
      "cell_type": "code",
      "metadata": {
        "id": "PBjhcKfGFkfb",
        "colab_type": "code",
        "colab": {
          "base_uri": "https://localhost:8080/",
          "height": 35
        },
        "outputId": "8240e1a6-dd7b-4ded-a717-83056efad01f"
      },
      "source": [
        "recall_score(y_test_df, y_predict)"
      ],
      "execution_count": 192,
      "outputs": [
        {
          "output_type": "execute_result",
          "data": {
            "text/plain": [
              "0.9213051823416507"
            ]
          },
          "metadata": {
            "tags": []
          },
          "execution_count": 192
        }
      ]
    },
    {
      "cell_type": "code",
      "metadata": {
        "id": "7Qxtt2ULLCDt",
        "colab_type": "code",
        "colab": {}
      },
      "source": [
        "y_train_and_test = pd.concat([y_res_df, y_test_df],axis=0)"
      ],
      "execution_count": 0,
      "outputs": []
    },
    {
      "cell_type": "code",
      "metadata": {
        "id": "J0aWPdcHLTaP",
        "colab_type": "code",
        "colab": {}
      },
      "source": [
        "y_train_and_test"
      ],
      "execution_count": 0,
      "outputs": []
    },
    {
      "cell_type": "code",
      "metadata": {
        "id": "H_5b_RzEKdbE",
        "colab_type": "code",
        "colab": {
          "base_uri": "https://localhost:8080/",
          "height": 279
        },
        "outputId": "02aabb41-ab25-4735-801c-e821f8b5cc85"
      },
      "source": [
        "from sklearn.metrics import precision_recall_curve\n",
        "from matplotlib import pyplot\n",
        "\n",
        "yhat = LogReg.predict_proba(X_test_scaled)\n",
        "# retrieve just the probabilities for the positive class\n",
        "pos_probs = yhat[:, 1]\n",
        "# calculate the no skill line as the proportion of the positive class\n",
        "no_skill = len(y_train_and_test[y_train_and_test==1]) / len(y_train_and_test)\n",
        "# plot the no skill precision-recall curve\n",
        "pyplot.plot([0, 1], [no_skill, no_skill], linestyle='--', label='No Skill')\n",
        "# calculate model precision-recall curve\n",
        "precision, recall, _ = precision_recall_curve(y_test_df, pos_probs)\n",
        "# plot the model precision-recall curve\n",
        "pyplot.plot(recall, precision, marker='.', label='Logistic')\n",
        "# axis labels\n",
        "pyplot.xlabel('Recall')\n",
        "pyplot.ylabel('Precision')\n",
        "# show the legend\n",
        "pyplot.legend()\n",
        "# show the plot\n",
        "pyplot.show()"
      ],
      "execution_count": 196,
      "outputs": [
        {
          "output_type": "display_data",
          "data": {
            "image/png": "[encoded data removed]",
            "text/plain": [
              "<Figure size 432x288 with 1 Axes>"
            ]
          },
          "metadata": {
            "tags": [],
            "needs_background": "light"
          }
        }
      ]
    },
    {
      "cell_type": "code",
      "metadata": {
        "id": "DRfAsRRrLvmk",
        "colab_type": "code",
        "colab": {}
      },
      "source": [
        "auc_score = metrics.auc(recall, precision)"
      ],
      "execution_count": 0,
      "outputs": []
    },
    {
      "cell_type": "code",
      "metadata": {
        "id": "T03h4kezL23k",
        "colab_type": "code",
        "colab": {
          "base_uri": "https://localhost:8080/",
          "height": 35
        },
        "outputId": "ee11a53b-2646-40c8-93d7-a4309127dc15"
      },
      "source": [
        "auc_score # PR Auc score for non-filtered (features) dataset"
      ],
      "execution_count": 199,
      "outputs": [
        {
          "output_type": "execute_result",
          "data": {
            "text/plain": [
              "0.4805893597780857"
            ]
          },
          "metadata": {
            "tags": []
          },
          "execution_count": 199
        }
      ]
    },
    {
      "cell_type": "markdown",
      "metadata": {
        "id": "WIPCiXoANQ0j",
        "colab_type": "text"
      },
      "source": [
        "Let's examine correlations between features."
      ]
    },
    {
      "cell_type": "code",
      "metadata": {
        "id": "f2yWjlI9NXh2",
        "colab_type": "code",
        "colab": {}
      },
      "source": [
        "corre = X.corr(method ='pearson').abs()"
      ],
      "execution_count": 0,
      "outputs": []
    },
    {
      "cell_type": "code",
      "metadata": {
        "id": "oaimrnmDOCyQ",
        "colab_type": "code",
        "colab": {}
      },
      "source": [
        "s = corre.unstack()\n",
        "so = s.sort_values(kind=\"quicksort\", ascending=False)\n",
        "print(so[28:40])"
      ],
      "execution_count": 0,
      "outputs": []
    },
    {
      "cell_type": "code",
      "metadata": {
        "id": "jzpZPsd4OgQm",
        "colab_type": "code",
        "colab": {
          "base_uri": "https://localhost:8080/",
          "height": 254
        },
        "outputId": "89bde9c5-2031-4eb8-e1c5-35db51e3e391"
      },
      "source": [
        ""
      ],
      "execution_count": 216,
      "outputs": [
        {
          "output_type": "stream",
          "text": [
            "age            age              1.000000\n",
            "contact1       contact3         0.862396\n",
            "contact3       contact1         0.862396\n",
            "marital3       marital2         0.772355\n",
            "marital2       marital3         0.772355\n",
            "poutcome_ord   pdays            0.479258\n",
            "pdays          poutcome_ord     0.479258\n",
            "previous       pdays            0.454819\n",
            "pdays          previous         0.454819\n",
            "job5           education_ord    0.450458\n",
            "education_ord  job5             0.450458\n",
            "job6           age              0.447392\n",
            "dtype: float64\n"
          ],
          "name": "stdout"
        }
      ]
    },
    {
      "cell_type": "code",
      "metadata": {
        "id": "k9SXML6tP2sa",
        "colab_type": "code",
        "colab": {
          "base_uri": "https://localhost:8080/",
          "height": 254
        },
        "outputId": "35cd4e5c-5ccf-4cb3-ba2e-ff62e237197c"
      },
      "source": [
        "corre = X.corr(method ='spearman').abs()\n",
        "s = corre.unstack()\n",
        "so = s.sort_values(kind=\"quicksort\", ascending=False)\n",
        "print(so[28:40])"
      ],
      "execution_count": 220,
      "outputs": [
        {
          "output_type": "stream",
          "text": [
            "age            age              1.000000\n",
            "previous       pdays            0.985644\n",
            "pdays          previous         0.985644\n",
            "contact1       contact3         0.862396\n",
            "contact3       contact1         0.862396\n",
            "marital2       marital3         0.772355\n",
            "marital3       marital2         0.772355\n",
            "education_ord  job5             0.508374\n",
            "job5           education_ord    0.508374\n",
            "pdays          poutcome_ord     0.476175\n",
            "poutcome_ord   pdays            0.476175\n",
            "age            marital3         0.459132\n",
            "dtype: float64\n"
          ],
          "name": "stdout"
        }
      ]
    },
    {
      "cell_type": "code",
      "metadata": {
        "id": "36D-A3Q5QZdL",
        "colab_type": "code",
        "colab": {
          "base_uri": "https://localhost:8080/",
          "height": 254
        },
        "outputId": "4a3578bf-4618-4be3-9d25-e986a17c580f"
      },
      "source": [
        "corre = X.corr(method ='kendall').abs()\n",
        "s = corre.unstack()\n",
        "so = s.sort_values(kind=\"quicksort\", ascending=False)\n",
        "print(so[28:40])"
      ],
      "execution_count": 221,
      "outputs": [
        {
          "output_type": "stream",
          "text": [
            "age            age              1.000000\n",
            "previous       pdays            0.902707\n",
            "pdays          previous         0.902707\n",
            "contact1       contact3         0.862396\n",
            "contact3       contact1         0.862396\n",
            "marital3       marital2         0.772355\n",
            "marital2       marital3         0.772355\n",
            "job5           education_ord    0.479852\n",
            "education_ord  job5             0.479852\n",
            "marital2       marital1         0.443645\n",
            "marital1       marital2         0.443645\n",
            "poutcome_ord   pdays            0.440491\n",
            "dtype: float64\n"
          ],
          "name": "stdout"
        }
      ]
    }
  ]
}